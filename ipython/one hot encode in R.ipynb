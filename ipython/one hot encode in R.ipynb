{
 "cells": [
  {
   "cell_type": "markdown",
   "metadata": {},
   "source": [
    "3 One-hot encode categorical features"
   ]
  },
  {
   "cell_type": "code",
   "execution_count": 13,
   "metadata": {},
   "outputs": [
    {
     "data": {
      "text/html": [
       "<ol class=list-inline>\n",
       "\t<li>1451</li>\n",
       "\t<li>80</li>\n",
       "</ol>\n"
      ],
      "text/latex": [
       "\\begin{enumerate*}\n",
       "\\item 1451\n",
       "\\item 80\n",
       "\\end{enumerate*}\n"
      ],
      "text/markdown": [
       "1. 1451\n",
       "2. 80\n",
       "\n",
       "\n"
      ],
      "text/plain": [
       "[1] 1451   80"
      ]
     },
     "metadata": {},
     "output_type": "display_data"
    }
   ],
   "source": [
    "source('../src/load_data.r')\n",
    "source('../src/multiplot.r')\n",
    "library(ggplot2)\n",
    "library(reshape2)\n",
    "dim(housing_df)"
   ]
  },
  {
   "cell_type": "code",
   "execution_count": 37,
   "metadata": {},
   "outputs": [],
   "source": [
    "cat <- Filter(is.factor, housing_df)"
   ]
  },
  {
   "cell_type": "code",
   "execution_count": 38,
   "metadata": {},
   "outputs": [
    {
     "data": {
      "text/html": [
       "<table>\n",
       "<thead><tr><th scope=col>MSSubClass</th><th scope=col>MSZoning</th><th scope=col>LotShape</th><th scope=col>LandContour</th><th scope=col>Utilities</th><th scope=col>LotConfig</th><th scope=col>LandSlope</th><th scope=col>Neighborhood</th><th scope=col>Condition1</th><th scope=col>Condition2</th><th scope=col>⋯</th><th scope=col>GarageCars</th><th scope=col>GarageQual</th><th scope=col>GarageCond</th><th scope=col>PavedDrive</th><th scope=col>PoolQC</th><th scope=col>Fence</th><th scope=col>MiscFeature</th><th scope=col>MoSold</th><th scope=col>SaleType</th><th scope=col>SaleCondition</th></tr></thead>\n",
       "<tbody>\n",
       "\t<tr><td>60     </td><td>RL     </td><td>Reg    </td><td>Lvl    </td><td>AllPub </td><td>Inside </td><td>Gtl    </td><td>CollgCr</td><td>Norm   </td><td>Norm   </td><td>⋯      </td><td>2      </td><td>TA     </td><td>TA     </td><td>Y      </td><td>without</td><td>without</td><td>without</td><td>2      </td><td>WD     </td><td>Normal </td></tr>\n",
       "\t<tr><td>20     </td><td>RL     </td><td>Reg    </td><td>Lvl    </td><td>AllPub </td><td>FR2    </td><td>Gtl    </td><td>Veenker</td><td>Feedr  </td><td>Norm   </td><td>⋯      </td><td>2      </td><td>TA     </td><td>TA     </td><td>Y      </td><td>without</td><td>without</td><td>without</td><td>5      </td><td>WD     </td><td>Normal </td></tr>\n",
       "\t<tr><td>60     </td><td>RL     </td><td>IR1    </td><td>Lvl    </td><td>AllPub </td><td>Inside </td><td>Gtl    </td><td>CollgCr</td><td>Norm   </td><td>Norm   </td><td>⋯      </td><td>2      </td><td>TA     </td><td>TA     </td><td>Y      </td><td>without</td><td>without</td><td>without</td><td>9      </td><td>WD     </td><td>Normal </td></tr>\n",
       "\t<tr><td>70     </td><td>RL     </td><td>IR1    </td><td>Lvl    </td><td>AllPub </td><td>Corner </td><td>Gtl    </td><td>Crawfor</td><td>Norm   </td><td>Norm   </td><td>⋯      </td><td>3      </td><td>TA     </td><td>TA     </td><td>Y      </td><td>without</td><td>without</td><td>without</td><td>2      </td><td>WD     </td><td>Abnorml</td></tr>\n",
       "\t<tr><td>60     </td><td>RL     </td><td>IR1    </td><td>Lvl    </td><td>AllPub </td><td>FR2    </td><td>Gtl    </td><td>NoRidge</td><td>Norm   </td><td>Norm   </td><td>⋯      </td><td>3      </td><td>TA     </td><td>TA     </td><td>Y      </td><td>without</td><td>without</td><td>without</td><td>12     </td><td>WD     </td><td>Normal </td></tr>\n",
       "\t<tr><td>50     </td><td>RL     </td><td>IR1    </td><td>Lvl    </td><td>AllPub </td><td>Inside </td><td>Gtl    </td><td>Mitchel</td><td>Norm   </td><td>Norm   </td><td>⋯      </td><td>2      </td><td>TA     </td><td>TA     </td><td>Y      </td><td>without</td><td>MnPrv  </td><td>Shed   </td><td>10     </td><td>WD     </td><td>Normal </td></tr>\n",
       "</tbody>\n",
       "</table>\n"
      ],
      "text/latex": [
       "\\begin{tabular}{r|llllllllllllllllllllllllllllllllllllllllllllllllllllllll}\n",
       " MSSubClass & MSZoning & LotShape & LandContour & Utilities & LotConfig & LandSlope & Neighborhood & Condition1 & Condition2 & ⋯ & GarageCars & GarageQual & GarageCond & PavedDrive & PoolQC & Fence & MiscFeature & MoSold & SaleType & SaleCondition\\\\\n",
       "\\hline\n",
       "\t 60      & RL      & Reg     & Lvl     & AllPub  & Inside  & Gtl     & CollgCr & Norm    & Norm    & ⋯       & 2       & TA      & TA      & Y       & without & without & without & 2       & WD      & Normal \\\\\n",
       "\t 20      & RL      & Reg     & Lvl     & AllPub  & FR2     & Gtl     & Veenker & Feedr   & Norm    & ⋯       & 2       & TA      & TA      & Y       & without & without & without & 5       & WD      & Normal \\\\\n",
       "\t 60      & RL      & IR1     & Lvl     & AllPub  & Inside  & Gtl     & CollgCr & Norm    & Norm    & ⋯       & 2       & TA      & TA      & Y       & without & without & without & 9       & WD      & Normal \\\\\n",
       "\t 70      & RL      & IR1     & Lvl     & AllPub  & Corner  & Gtl     & Crawfor & Norm    & Norm    & ⋯       & 3       & TA      & TA      & Y       & without & without & without & 2       & WD      & Abnorml\\\\\n",
       "\t 60      & RL      & IR1     & Lvl     & AllPub  & FR2     & Gtl     & NoRidge & Norm    & Norm    & ⋯       & 3       & TA      & TA      & Y       & without & without & without & 12      & WD      & Normal \\\\\n",
       "\t 50      & RL      & IR1     & Lvl     & AllPub  & Inside  & Gtl     & Mitchel & Norm    & Norm    & ⋯       & 2       & TA      & TA      & Y       & without & MnPrv   & Shed    & 10      & WD      & Normal \\\\\n",
       "\\end{tabular}\n"
      ],
      "text/markdown": [
       "\n",
       "MSSubClass | MSZoning | LotShape | LandContour | Utilities | LotConfig | LandSlope | Neighborhood | Condition1 | Condition2 | ⋯ | GarageCars | GarageQual | GarageCond | PavedDrive | PoolQC | Fence | MiscFeature | MoSold | SaleType | SaleCondition | \n",
       "|---|---|---|---|---|---|\n",
       "| 60      | RL      | Reg     | Lvl     | AllPub  | Inside  | Gtl     | CollgCr | Norm    | Norm    | ⋯       | 2       | TA      | TA      | Y       | without | without | without | 2       | WD      | Normal  | \n",
       "| 20      | RL      | Reg     | Lvl     | AllPub  | FR2     | Gtl     | Veenker | Feedr   | Norm    | ⋯       | 2       | TA      | TA      | Y       | without | without | without | 5       | WD      | Normal  | \n",
       "| 60      | RL      | IR1     | Lvl     | AllPub  | Inside  | Gtl     | CollgCr | Norm    | Norm    | ⋯       | 2       | TA      | TA      | Y       | without | without | without | 9       | WD      | Normal  | \n",
       "| 70      | RL      | IR1     | Lvl     | AllPub  | Corner  | Gtl     | Crawfor | Norm    | Norm    | ⋯       | 3       | TA      | TA      | Y       | without | without | without | 2       | WD      | Abnorml | \n",
       "| 60      | RL      | IR1     | Lvl     | AllPub  | FR2     | Gtl     | NoRidge | Norm    | Norm    | ⋯       | 3       | TA      | TA      | Y       | without | without | without | 12      | WD      | Normal  | \n",
       "| 50      | RL      | IR1     | Lvl     | AllPub  | Inside  | Gtl     | Mitchel | Norm    | Norm    | ⋯       | 2       | TA      | TA      | Y       | without | MnPrv   | Shed    | 10      | WD      | Normal  | \n",
       "\n",
       "\n"
      ],
      "text/plain": [
       "  MSSubClass MSZoning LotShape LandContour Utilities LotConfig LandSlope\n",
       "1 60         RL       Reg      Lvl         AllPub    Inside    Gtl      \n",
       "2 20         RL       Reg      Lvl         AllPub    FR2       Gtl      \n",
       "3 60         RL       IR1      Lvl         AllPub    Inside    Gtl      \n",
       "4 70         RL       IR1      Lvl         AllPub    Corner    Gtl      \n",
       "5 60         RL       IR1      Lvl         AllPub    FR2       Gtl      \n",
       "6 50         RL       IR1      Lvl         AllPub    Inside    Gtl      \n",
       "  Neighborhood Condition1 Condition2 ⋯ GarageCars GarageQual GarageCond\n",
       "1 CollgCr      Norm       Norm       ⋯ 2          TA         TA        \n",
       "2 Veenker      Feedr      Norm       ⋯ 2          TA         TA        \n",
       "3 CollgCr      Norm       Norm       ⋯ 2          TA         TA        \n",
       "4 Crawfor      Norm       Norm       ⋯ 3          TA         TA        \n",
       "5 NoRidge      Norm       Norm       ⋯ 3          TA         TA        \n",
       "6 Mitchel      Norm       Norm       ⋯ 2          TA         TA        \n",
       "  PavedDrive PoolQC  Fence   MiscFeature MoSold SaleType SaleCondition\n",
       "1 Y          without without without     2      WD       Normal       \n",
       "2 Y          without without without     5      WD       Normal       \n",
       "3 Y          without without without     9      WD       Normal       \n",
       "4 Y          without without without     2      WD       Abnorml      \n",
       "5 Y          without without without     12     WD       Normal       \n",
       "6 Y          without MnPrv   Shed        10     WD       Normal       "
      ]
     },
     "metadata": {},
     "output_type": "display_data"
    }
   ],
   "source": [
    "head(cat)"
   ]
  },
  {
   "cell_type": "code",
   "execution_count": 39,
   "metadata": {},
   "outputs": [
    {
     "data": {
      "text/html": [
       "56"
      ],
      "text/latex": [
       "56"
      ],
      "text/markdown": [
       "56"
      ],
      "text/plain": [
       "[1] 56"
      ]
     },
     "metadata": {},
     "output_type": "display_data"
    },
    {
     "data": {
      "text/html": [
       "23"
      ],
      "text/latex": [
       "23"
      ],
      "text/markdown": [
       "23"
      ],
      "text/plain": [
       "[1] 23"
      ]
     },
     "metadata": {},
     "output_type": "display_data"
    }
   ],
   "source": [
    "length(cat);length(numeric_log_sc_df)"
   ]
  },
  {
   "cell_type": "code",
   "execution_count": 28,
   "metadata": {},
   "outputs": [
    {
     "name": "stderr",
     "output_type": "stream",
     "text": [
      "Updating HTML index of packages in '.Library'\n",
      "Making 'packages.html' ... done\n"
     ]
    }
   ],
   "source": [
    "install.packages(\"onehot\")"
   ]
  },
  {
   "cell_type": "code",
   "execution_count": 40,
   "metadata": {},
   "outputs": [],
   "source": [
    "library(onehot)"
   ]
  },
  {
   "cell_type": "code",
   "execution_count": 41,
   "metadata": {},
   "outputs": [
    {
     "name": "stderr",
     "output_type": "stream",
     "text": [
      "Warning message:\n",
      "“Variables excluded for having levels > max_levels: MSSubClassVariables excluded for having levels > max_levels: NeighborhoodVariables excluded for having levels > max_levels: Exterior1stVariables excluded for having levels > max_levels: Exterior2ndVariables excluded for having levels > max_levels: TotRmsAbvGrdVariables excluded for having levels > max_levels: MoSold”"
     ]
    }
   ],
   "source": [
    "encoed <- onehot(cat, stringsAsFactors = FALSE, addNA = FALSE, max_levels = 10)"
   ]
  },
  {
   "cell_type": "code",
   "execution_count": 33,
   "metadata": {},
   "outputs": [
    {
     "data": {
      "text/plain": [
       "onehot object with following types:\n",
       " |-  50 factors\n",
       "Producing matrix with 280 columns"
      ]
     },
     "metadata": {},
     "output_type": "display_data"
    }
   ],
   "source": [
    "encoed"
   ]
  },
  {
   "cell_type": "code",
   "execution_count": 44,
   "metadata": {},
   "outputs": [],
   "source": [
    "cat_df <- predict(encoed, cat)"
   ]
  },
  {
   "cell_type": "code",
   "execution_count": 45,
   "metadata": {},
   "outputs": [
    {
     "data": {
      "text/html": [
       "<table>\n",
       "<thead><tr><th scope=col>MSZoning=C (all)</th><th scope=col>MSZoning=FV</th><th scope=col>MSZoning=RH</th><th scope=col>MSZoning=RL</th><th scope=col>MSZoning=RM</th><th scope=col>LotShape=IR1</th><th scope=col>LotShape=IR2</th><th scope=col>LotShape=IR3</th><th scope=col>LotShape=Reg</th><th scope=col>LandContour=Bnk</th><th scope=col>⋯</th><th scope=col>SaleType=CWD</th><th scope=col>SaleType=New</th><th scope=col>SaleType=Oth</th><th scope=col>SaleType=WD</th><th scope=col>SaleCondition=Abnorml</th><th scope=col>SaleCondition=AdjLand</th><th scope=col>SaleCondition=Alloca</th><th scope=col>SaleCondition=Family</th><th scope=col>SaleCondition=Normal</th><th scope=col>SaleCondition=Partial</th></tr></thead>\n",
       "<tbody>\n",
       "\t<tr><td>0</td><td>0</td><td>0</td><td>1</td><td>0</td><td>0</td><td>0</td><td>0</td><td>1</td><td>0</td><td>⋯</td><td>0</td><td>0</td><td>0</td><td>1</td><td>0</td><td>0</td><td>0</td><td>0</td><td>1</td><td>0</td></tr>\n",
       "\t<tr><td>0</td><td>0</td><td>0</td><td>1</td><td>0</td><td>0</td><td>0</td><td>0</td><td>1</td><td>0</td><td>⋯</td><td>0</td><td>0</td><td>0</td><td>1</td><td>0</td><td>0</td><td>0</td><td>0</td><td>1</td><td>0</td></tr>\n",
       "\t<tr><td>0</td><td>0</td><td>0</td><td>1</td><td>0</td><td>1</td><td>0</td><td>0</td><td>0</td><td>0</td><td>⋯</td><td>0</td><td>0</td><td>0</td><td>1</td><td>0</td><td>0</td><td>0</td><td>0</td><td>1</td><td>0</td></tr>\n",
       "\t<tr><td>0</td><td>0</td><td>0</td><td>1</td><td>0</td><td>1</td><td>0</td><td>0</td><td>0</td><td>0</td><td>⋯</td><td>0</td><td>0</td><td>0</td><td>1</td><td>1</td><td>0</td><td>0</td><td>0</td><td>0</td><td>0</td></tr>\n",
       "\t<tr><td>0</td><td>0</td><td>0</td><td>1</td><td>0</td><td>1</td><td>0</td><td>0</td><td>0</td><td>0</td><td>⋯</td><td>0</td><td>0</td><td>0</td><td>1</td><td>0</td><td>0</td><td>0</td><td>0</td><td>1</td><td>0</td></tr>\n",
       "\t<tr><td>0</td><td>0</td><td>0</td><td>1</td><td>0</td><td>1</td><td>0</td><td>0</td><td>0</td><td>0</td><td>⋯</td><td>0</td><td>0</td><td>0</td><td>1</td><td>0</td><td>0</td><td>0</td><td>0</td><td>1</td><td>0</td></tr>\n",
       "</tbody>\n",
       "</table>\n"
      ],
      "text/latex": [
       "\\begin{tabular}{llllllllllllllllllllllllllllllllllllllllllllllllllllllllllllllllllllllllllllllllllllllllllllllllllllllllllllllllllllllllllllllllllllllllllllllllllllllllllllllllllllllllllllllllllllllllllllllllllllllllllllllllllllllllllllllllllllllllllllllllllllllllllllllllllllllllllllllllllllllll}\n",
       " MSZoning=C (all) & MSZoning=FV & MSZoning=RH & MSZoning=RL & MSZoning=RM & LotShape=IR1 & LotShape=IR2 & LotShape=IR3 & LotShape=Reg & LandContour=Bnk & ⋯ & SaleType=CWD & SaleType=New & SaleType=Oth & SaleType=WD & SaleCondition=Abnorml & SaleCondition=AdjLand & SaleCondition=Alloca & SaleCondition=Family & SaleCondition=Normal & SaleCondition=Partial\\\\\n",
       "\\hline\n",
       "\t 0 & 0 & 0 & 1 & 0 & 0 & 0 & 0 & 1 & 0 & ⋯ & 0 & 0 & 0 & 1 & 0 & 0 & 0 & 0 & 1 & 0\\\\\n",
       "\t 0 & 0 & 0 & 1 & 0 & 0 & 0 & 0 & 1 & 0 & ⋯ & 0 & 0 & 0 & 1 & 0 & 0 & 0 & 0 & 1 & 0\\\\\n",
       "\t 0 & 0 & 0 & 1 & 0 & 1 & 0 & 0 & 0 & 0 & ⋯ & 0 & 0 & 0 & 1 & 0 & 0 & 0 & 0 & 1 & 0\\\\\n",
       "\t 0 & 0 & 0 & 1 & 0 & 1 & 0 & 0 & 0 & 0 & ⋯ & 0 & 0 & 0 & 1 & 1 & 0 & 0 & 0 & 0 & 0\\\\\n",
       "\t 0 & 0 & 0 & 1 & 0 & 1 & 0 & 0 & 0 & 0 & ⋯ & 0 & 0 & 0 & 1 & 0 & 0 & 0 & 0 & 1 & 0\\\\\n",
       "\t 0 & 0 & 0 & 1 & 0 & 1 & 0 & 0 & 0 & 0 & ⋯ & 0 & 0 & 0 & 1 & 0 & 0 & 0 & 0 & 1 & 0\\\\\n",
       "\\end{tabular}\n"
      ],
      "text/markdown": [
       "\n",
       "MSZoning=C (all) | MSZoning=FV | MSZoning=RH | MSZoning=RL | MSZoning=RM | LotShape=IR1 | LotShape=IR2 | LotShape=IR3 | LotShape=Reg | LandContour=Bnk | ⋯ | SaleType=CWD | SaleType=New | SaleType=Oth | SaleType=WD | SaleCondition=Abnorml | SaleCondition=AdjLand | SaleCondition=Alloca | SaleCondition=Family | SaleCondition=Normal | SaleCondition=Partial | \n",
       "|---|---|---|---|---|---|\n",
       "| 0 | 0 | 0 | 1 | 0 | 0 | 0 | 0 | 1 | 0 | ⋯ | 0 | 0 | 0 | 1 | 0 | 0 | 0 | 0 | 1 | 0 | \n",
       "| 0 | 0 | 0 | 1 | 0 | 0 | 0 | 0 | 1 | 0 | ⋯ | 0 | 0 | 0 | 1 | 0 | 0 | 0 | 0 | 1 | 0 | \n",
       "| 0 | 0 | 0 | 1 | 0 | 1 | 0 | 0 | 0 | 0 | ⋯ | 0 | 0 | 0 | 1 | 0 | 0 | 0 | 0 | 1 | 0 | \n",
       "| 0 | 0 | 0 | 1 | 0 | 1 | 0 | 0 | 0 | 0 | ⋯ | 0 | 0 | 0 | 1 | 1 | 0 | 0 | 0 | 0 | 0 | \n",
       "| 0 | 0 | 0 | 1 | 0 | 1 | 0 | 0 | 0 | 0 | ⋯ | 0 | 0 | 0 | 1 | 0 | 0 | 0 | 0 | 1 | 0 | \n",
       "| 0 | 0 | 0 | 1 | 0 | 1 | 0 | 0 | 0 | 0 | ⋯ | 0 | 0 | 0 | 1 | 0 | 0 | 0 | 0 | 1 | 0 | \n",
       "\n",
       "\n"
      ],
      "text/plain": [
       "     MSZoning=C (all) MSZoning=FV MSZoning=RH MSZoning=RL MSZoning=RM\n",
       "[1,] 0                0           0           1           0          \n",
       "[2,] 0                0           0           1           0          \n",
       "[3,] 0                0           0           1           0          \n",
       "[4,] 0                0           0           1           0          \n",
       "[5,] 0                0           0           1           0          \n",
       "[6,] 0                0           0           1           0          \n",
       "     LotShape=IR1 LotShape=IR2 LotShape=IR3 LotShape=Reg LandContour=Bnk ⋯\n",
       "[1,] 0            0            0            1            0               ⋯\n",
       "[2,] 0            0            0            1            0               ⋯\n",
       "[3,] 1            0            0            0            0               ⋯\n",
       "[4,] 1            0            0            0            0               ⋯\n",
       "[5,] 1            0            0            0            0               ⋯\n",
       "[6,] 1            0            0            0            0               ⋯\n",
       "     SaleType=CWD SaleType=New SaleType=Oth SaleType=WD SaleCondition=Abnorml\n",
       "[1,] 0            0            0            1           0                    \n",
       "[2,] 0            0            0            1           0                    \n",
       "[3,] 0            0            0            1           0                    \n",
       "[4,] 0            0            0            1           1                    \n",
       "[5,] 0            0            0            1           0                    \n",
       "[6,] 0            0            0            1           0                    \n",
       "     SaleCondition=AdjLand SaleCondition=Alloca SaleCondition=Family\n",
       "[1,] 0                     0                    0                   \n",
       "[2,] 0                     0                    0                   \n",
       "[3,] 0                     0                    0                   \n",
       "[4,] 0                     0                    0                   \n",
       "[5,] 0                     0                    0                   \n",
       "[6,] 0                     0                    0                   \n",
       "     SaleCondition=Normal SaleCondition=Partial\n",
       "[1,] 1                    0                    \n",
       "[2,] 1                    0                    \n",
       "[3,] 1                    0                    \n",
       "[4,] 0                    0                    \n",
       "[5,] 1                    0                    \n",
       "[6,] 1                    0                    "
      ]
     },
     "metadata": {},
     "output_type": "display_data"
    }
   ],
   "source": [
    "head(cat_df)"
   ]
  },
  {
   "cell_type": "code",
   "execution_count": null,
   "metadata": {},
   "outputs": [],
   "source": []
  },
  {
   "cell_type": "code",
   "execution_count": null,
   "metadata": {},
   "outputs": [],
   "source": []
  }
 ],
 "metadata": {
  "kernelspec": {
   "display_name": "R",
   "language": "R",
   "name": "ir"
  },
  "language_info": {
   "codemirror_mode": "r",
   "file_extension": ".r",
   "mimetype": "text/x-r-source",
   "name": "R",
   "pygments_lexer": "r",
   "version": "3.3.2"
  }
 },
 "nbformat": 4,
 "nbformat_minor": 2
}

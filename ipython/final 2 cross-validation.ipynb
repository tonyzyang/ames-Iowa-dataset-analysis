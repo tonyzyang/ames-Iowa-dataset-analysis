{
 "cells": [
  {
   "cell_type": "markdown",
   "metadata": {},
   "source": [
    "final 1- models\n",
    "1. ridge "
   ]
  },
  {
   "cell_type": "code",
   "execution_count": 1,
   "metadata": {},
   "outputs": [
    {
     "name": "stdout",
     "output_type": "stream",
     "text": [
      "/home/jovyan/ames-Iowa-dataset-analysis\n"
     ]
    }
   ],
   "source": [
    "cd /home/jovyan/ames-Iowa-dataset-analysis"
   ]
  },
  {
   "cell_type": "code",
   "execution_count": 43,
   "metadata": {},
   "outputs": [],
   "source": [
    "import matplotlib.pyplot as plt\n",
    "import numpy as np\n",
    "import pandas as pd\n",
    "import seaborn as sns\n",
    "from sklearn.model_selection import train_test_split\n",
    "from sklearn.svm import SVC\n",
    "from sklearn.metrics import classification_report, confusion_matrix\n",
    "from sklearn.pipeline import Pipeline\n",
    "from sklearn.ensemble import RandomForestRegressor\n",
    "from sklearn.preprocessing import StandardScaler, MinMaxScaler\n",
    "from sklearn.linear_model import Lasso, Ridge\n",
    "from sklearn.model_selection import train_test_split"
   ]
  },
  {
   "cell_type": "code",
   "execution_count": 3,
   "metadata": {},
   "outputs": [],
   "source": [
    "%matplotlib inline"
   ]
  },
  {
   "cell_type": "code",
   "execution_count": 4,
   "metadata": {},
   "outputs": [],
   "source": [
    "%run src/load_data.py"
   ]
  },
  {
   "cell_type": "code",
   "execution_count": 5,
   "metadata": {},
   "outputs": [],
   "source": [
    "housing = pd.read_csv('./data/housing.csv')"
   ]
  },
  {
   "cell_type": "code",
   "execution_count": 6,
   "metadata": {},
   "outputs": [
    {
     "name": "stdout",
     "output_type": "stream",
     "text": [
      "Variable                     Type         Data/Info\n",
      "---------------------------------------------------\n",
      "housing                      DataFrame          Unnamed: 0  MSSubCl<...>n[1460 rows x 81 columns]\n",
      "housing_df                   DataFrame         MSSubClass MSZoning <...>n[1451 rows x 80 columns]\n",
      "housing_ouliers_removed_df   DataFrame         MSSubClass MSZoning <...>n[1437 rows x 80 columns]\n",
      "listing_df                   DataFrame            Id Street Alley  <...>n[1460 rows x 62 columns]\n",
      "numeric_df                   DataFrame          LotFrontage  LotAre<...>n[1451 rows x 23 columns]\n",
      "numeric_final_df             DataFrame          LotFrontage   LotAr<...>n[1437 rows x 23 columns]\n",
      "numeric_log_df               DataFrame          LotFrontage    LotA<...>n[1451 rows x 23 columns]\n",
      "numeric_log_sc_df            DataFrame          LotFrontage   LotAr<...>n[1451 rows x 23 columns]\n",
      "numeric_sc_df                DataFrame          LotFrontage   LotAr<...>n[1451 rows x 23 columns]\n",
      "sale_df                      DataFrame            Id  MoSold  YrSol<...>\\n[1460 rows x 6 columns]\n",
      "zoning_df                    DataFrame            Id  MSSubClass MS<...>n[1460 rows x 15 columns]\n"
     ]
    }
   ],
   "source": [
    "whos DataFrame"
   ]
  },
  {
   "cell_type": "code",
   "execution_count": null,
   "metadata": {},
   "outputs": [],
   "source": []
  },
  {
   "cell_type": "code",
   "execution_count": null,
   "metadata": {},
   "outputs": [],
   "source": []
  },
  {
   "cell_type": "code",
   "execution_count": null,
   "metadata": {},
   "outputs": [],
   "source": []
  },
  {
   "cell_type": "code",
   "execution_count": null,
   "metadata": {},
   "outputs": [],
   "source": []
  },
  {
   "cell_type": "code",
   "execution_count": null,
   "metadata": {},
   "outputs": [],
   "source": []
  },
  {
   "cell_type": "markdown",
   "metadata": {},
   "source": [
    "**One hot encode**"
   ]
  },
  {
   "cell_type": "code",
   "execution_count": 7,
   "metadata": {},
   "outputs": [],
   "source": [
    "cat = housing_df.select_dtypes(include=['category'])\n",
    "cate = pd.get_dummies(cat)\n",
    "\n",
    "features = pd.merge(cate, housing_df.select_dtypes(exclude=['category']), left_index=True, right_index=True)\n"
   ]
  },
  {
   "cell_type": "code",
   "execution_count": 8,
   "metadata": {},
   "outputs": [],
   "source": [
    "data_target = features['SalePrice']"
   ]
  },
  {
   "cell_type": "code",
   "execution_count": 9,
   "metadata": {},
   "outputs": [],
   "source": [
    "data_var = features.drop(labels='SalePrice', axis=1)\n"
   ]
  },
  {
   "cell_type": "code",
   "execution_count": 10,
   "metadata": {},
   "outputs": [],
   "source": [
    "X_train, X_test, y_train, y_test = train_test_split(\n",
    "    data_var, data_target, test_size=0.3, random_state=42)"
   ]
  },
  {
   "cell_type": "code",
   "execution_count": 11,
   "metadata": {},
   "outputs": [
    {
     "data": {
      "text/plain": [
       "Ridge(alpha=1.0, copy_X=True, fit_intercept=True, max_iter=None,\n",
       "   normalize=False, random_state=None, solver='auto', tol=0.001)"
      ]
     },
     "execution_count": 11,
     "metadata": {},
     "output_type": "execute_result"
    }
   ],
   "source": [
    "from sklearn.linear_model import Ridge\n",
    "ridge = Ridge()\n",
    "\n",
    "ridge.fit(X_train, y_train)"
   ]
  },
  {
   "cell_type": "code",
   "execution_count": 12,
   "metadata": {},
   "outputs": [
    {
     "data": {
      "text/plain": [
       "0.94237912124562706"
      ]
     },
     "execution_count": 12,
     "metadata": {},
     "output_type": "execute_result"
    }
   ],
   "source": [
    "ridge.score(X_train, y_train)"
   ]
  },
  {
   "cell_type": "code",
   "execution_count": 38,
   "metadata": {},
   "outputs": [
    {
     "data": {
      "text/plain": [
       "0.82244776793472674"
      ]
     },
     "execution_count": 38,
     "metadata": {},
     "output_type": "execute_result"
    }
   ],
   "source": [
    "ridge.score(X_test, y_test)"
   ]
  },
  {
   "cell_type": "code",
   "execution_count": 14,
   "metadata": {},
   "outputs": [
    {
     "data": {
      "text/plain": [
       "[<matplotlib.lines.Line2D at 0x7f41bb62bcf8>]"
      ]
     },
     "execution_count": 14,
     "metadata": {},
     "output_type": "execute_result"
    },
    {
     "data": {
      "image/png": "[encoded data removed]",
      "text/plain": [
       "<Figure size 432x288 with 1 Axes>"
      ]
     },
     "metadata": {},
     "output_type": "display_data"
    }
   ],
   "source": [
    "\n",
    "X = data_var\n",
    "y = data_target\n",
    "from sklearn.linear_model import Ridge\n",
    "from sklearn.model_selection import cross_val_score\n",
    "\n",
    "alpha_space = np.logspace(-4, 0, 50)\n",
    "ridge_scores = []\n",
    "ridge_scores_std = []\n",
    "\n",
    "ridge = Ridge(normalize=True)\n",
    "\n",
    "for alpha in alpha_space:\n",
    "\n",
    "    ridge.alpha = alpha\n",
    "\n",
    "    ridge_cv_scores = cross_val_score(ridge, X_train, y_train, cv=5)\n",
    "    \n",
    "    ridge_scores.append(np.mean(ridge_cv_scores))\n",
    "    \n",
    "    ridge_scores_std.append(np.std(ridge_cv_scores))\n",
    "\n",
    "\n",
    "plt.plot(ridge_scores, ridge_scores_std)"
   ]
  },
  {
   "cell_type": "code",
   "execution_count": null,
   "metadata": {},
   "outputs": [],
   "source": []
  },
  {
   "cell_type": "code",
   "execution_count": null,
   "metadata": {},
   "outputs": [],
   "source": []
  },
  {
   "cell_type": "code",
   "execution_count": null,
   "metadata": {},
   "outputs": [],
   "source": []
  },
  {
   "cell_type": "markdown",
   "metadata": {},
   "source": [
    "**1. SVC model**"
   ]
  },
  {
   "cell_type": "code",
   "execution_count": 76,
   "metadata": {},
   "outputs": [
    {
     "data": {
      "text/plain": [
       "0.016055045871559634"
      ]
     },
     "execution_count": 76,
     "metadata": {},
     "output_type": "execute_result"
    }
   ],
   "source": [
    "from sklearn.svm import SVC\n",
    "svc = SVC()\n",
    "svc.fit(X_train, y_train).score(X_test, y_test)"
   ]
  },
  {
   "cell_type": "code",
   "execution_count": null,
   "metadata": {},
   "outputs": [],
   "source": []
  },
  {
   "cell_type": "code",
   "execution_count": null,
   "metadata": {},
   "outputs": [],
   "source": []
  },
  {
   "cell_type": "code",
   "execution_count": 87,
   "metadata": {},
   "outputs": [],
   "source": [
    "params = [\n",
    " {'C': [1, 10, 100, 1000], 'kernel': ['linear']},\n",
    " {'C': [1, 10, 100, 1000], 'gamma': [0.001, 0.0001], 'kernel': ['rbf']},\n",
    "]"
   ]
  },
  {
   "cell_type": "code",
   "execution_count": 88,
   "metadata": {},
   "outputs": [],
   "source": [
    "gspipe = GridSearchCV(SVC(),\n",
    "                      param_grid=params,\n",
    "                      n_jobs=-1,\n",
    "                      cv=ShuffleSplit(n_splits=5, random_state=42))"
   ]
  },
  {
   "cell_type": "code",
   "execution_count": 90,
   "metadata": {},
   "outputs": [
    {
     "data": {
      "text/plain": [
       "GridSearchCV(cv=ShuffleSplit(n_splits=5, random_state=42, test_size='default',\n",
       "       train_size=None),\n",
       "       error_score='raise',\n",
       "       estimator=SVC(C=1.0, cache_size=200, class_weight=None, coef0=0.0,\n",
       "  decision_function_shape='ovr', degree=3, gamma='auto', kernel='rbf',\n",
       "  max_iter=-1, probability=False, random_state=None, shrinking=True,\n",
       "  tol=0.001, verbose=False),\n",
       "       fit_params=None, iid=True, n_jobs=-1,\n",
       "       param_grid=[{'C': [1, 10, 100, 1000], 'kernel': ['linear']}, {'C': [1, 10, 100, 1000], 'gamma': [0.001, 0.0001], 'kernel': ['rbf']}],\n",
       "       pre_dispatch='2*n_jobs', refit=True, return_train_score='warn',\n",
       "       scoring=None, verbose=0)"
      ]
     },
     "execution_count": 90,
     "metadata": {},
     "output_type": "execute_result"
    }
   ],
   "source": [
    "gspipe.fit(X_train, y_train)"
   ]
  },
  {
   "cell_type": "code",
   "execution_count": 91,
   "metadata": {},
   "outputs": [
    {
     "data": {
      "text/plain": [
       "0.0078431372549019607"
      ]
     },
     "execution_count": 91,
     "metadata": {},
     "output_type": "execute_result"
    }
   ],
   "source": [
    "gspipe.best_score_"
   ]
  },
  {
   "cell_type": "markdown",
   "metadata": {},
   "source": [
    "**2 pipeline**"
   ]
  },
  {
   "cell_type": "code",
   "execution_count": 21,
   "metadata": {},
   "outputs": [],
   "source": [
    "from sklearn.pipeline import Pipeline"
   ]
  },
  {
   "cell_type": "code",
   "execution_count": 25,
   "metadata": {},
   "outputs": [],
   "source": [
    "simple_pipe = Pipeline([('scaler',StandardScaler()), ('lasso', Lasso())])"
   ]
  },
  {
   "cell_type": "code",
   "execution_count": 26,
   "metadata": {},
   "outputs": [
    {
     "name": "stderr",
     "output_type": "stream",
     "text": [
      "/opt/conda/lib/python3.6/site-packages/sklearn/linear_model/coordinate_descent.py:491: ConvergenceWarning: Objective did not converge. You might want to increase the number of iterations. Fitting data with very small alpha may cause precision problems.\n",
      "  ConvergenceWarning)\n"
     ]
    },
    {
     "data": {
      "text/plain": [
       "Pipeline(memory=None,\n",
       "     steps=[('scaler', StandardScaler(copy=True, with_mean=True, with_std=True)), ('lasso', Lasso(alpha=1.0, copy_X=True, fit_intercept=True, max_iter=1000,\n",
       "   normalize=False, positive=False, precompute=False, random_state=None,\n",
       "   selection='cyclic', tol=0.0001, warm_start=False))])"
      ]
     },
     "execution_count": 26,
     "metadata": {},
     "output_type": "execute_result"
    }
   ],
   "source": [
    "simple_pipe.fit(X_train, y_train)"
   ]
  },
  {
   "cell_type": "code",
   "execution_count": 27,
   "metadata": {},
   "outputs": [
    {
     "data": {
      "text/plain": [
       "0.95610457495489642"
      ]
     },
     "execution_count": 27,
     "metadata": {},
     "output_type": "execute_result"
    }
   ],
   "source": [
    "simple_pipe.score(X_train, y_train)"
   ]
  },
  {
   "cell_type": "code",
   "execution_count": 28,
   "metadata": {},
   "outputs": [
    {
     "data": {
      "text/plain": [
       "0.72069878278939214"
      ]
     },
     "execution_count": 28,
     "metadata": {},
     "output_type": "execute_result"
    }
   ],
   "source": [
    "simple_pipe.score(X_test, y_test)"
   ]
  },
  {
   "cell_type": "code",
   "execution_count": 29,
   "metadata": {},
   "outputs": [
    {
     "data": {
      "text/plain": [
       "array([  3.56650246e-01,   4.92610837e-02,   3.94088670e-03,\n",
       "         5.91133005e-03,   9.65517241e-02,   2.10837438e-01,\n",
       "         4.72906404e-02,   1.18226601e-02,   4.23645320e-02,\n",
       "         8.86699507e-03,   3.64532020e-02,   5.51724138e-02,\n",
       "         4.82758621e-02,   4.92610837e-03,   2.16748768e-02,\n",
       "         5.91133005e-03,   4.13793103e-02,   9.85221675e-03,\n",
       "         7.86206897e-01,   1.56650246e-01,   3.32019704e-01,\n",
       "         2.95566502e-02,   7.88177340e-03,   6.30541872e-01,\n",
       "         4.03940887e-02,   3.84236453e-02,   2.56157635e-02,\n",
       "         8.95566502e-01,   9.99014778e-01,   9.85221675e-04,\n",
       "         1.95073892e-01,   7.09359606e-02,   3.05418719e-02,\n",
       "         1.97044335e-03,   7.01477833e-01,   9.44827586e-01,\n",
       "         4.53201970e-02,   9.85221675e-03,   1.37931034e-02,\n",
       "         9.85221675e-04,   1.47783251e-02,   4.03940887e-02,\n",
       "         2.16748768e-02,   9.95073892e-02,   3.54679803e-02,\n",
       "         6.69950739e-02,   5.32019704e-02,   2.46305419e-02,\n",
       "         1.18226601e-02,   3.25123153e-02,   1.58620690e-01,\n",
       "         4.92610837e-03,   4.72906404e-02,   2.85714286e-02,\n",
       "         5.51724138e-02,   8.66995074e-02,   1.87192118e-02,\n",
       "         4.33497537e-02,   3.74384236e-02,   5.22167488e-02,\n",
       "         1.97044335e-02,   2.16748768e-02,   9.85221675e-03,\n",
       "         3.44827586e-02,   5.81280788e-02,   8.54187192e-01,\n",
       "         5.91133005e-03,   1.47783251e-02,   8.86699507e-03,\n",
       "         1.87192118e-02,   1.97044335e-03,   2.95566502e-03,\n",
       "         1.97044335e-03,   2.95566502e-03,   9.90147783e-01,\n",
       "         9.85221675e-04,   9.85221675e-04,   9.85221675e-04,\n",
       "         9.85221675e-04,   9.85221675e-04,   8.33497537e-01,\n",
       "         2.26600985e-02,   3.64532020e-02,   2.95566502e-02,\n",
       "         7.78325123e-02,   1.03448276e-01,   6.89655172e-03,\n",
       "         4.86699507e-01,   4.92610837e-03,   9.85221675e-03,\n",
       "         3.21182266e-01,   1.97044335e-02,   4.72906404e-02,\n",
       "         3.94088670e-03,   9.96059113e-01,   4.13793103e-02,\n",
       "         2.46305419e-02,   9.33990148e-01,   9.85221675e-04,\n",
       "         2.95566502e-03,   1.57635468e-02,   7.58620690e-02,\n",
       "         2.77832512e-01,   2.41379310e-01,   2.21674877e-01,\n",
       "         1.22167488e-01,   3.15270936e-02,   9.85221675e-03,\n",
       "         0.00000000e+00,   3.94088670e-03,   1.57635468e-02,\n",
       "         4.23645320e-02,   5.66502463e-01,   1.66502463e-01,\n",
       "         1.39901478e-01,   5.02463054e-02,   1.47783251e-02,\n",
       "         1.08374384e-02,   7.80295567e-01,   7.88177340e-03,\n",
       "         1.94088670e-01,   4.92610837e-03,   1.97044335e-03,\n",
       "         9.85221675e-04,   9.77339901e-01,   0.00000000e+00,\n",
       "         9.85221675e-04,   9.85221675e-04,   9.85221675e-03,\n",
       "         3.94088670e-03,   5.91133005e-03,   1.57635468e-02,\n",
       "         0.00000000e+00,   1.97044335e-03,   3.84236453e-02,\n",
       "         9.85221675e-04,   3.94088670e-02,   1.53694581e-01,\n",
       "         0.00000000e+00,   1.51724138e-01,   6.89655172e-02,\n",
       "         9.85221675e-04,   1.77339901e-02,   3.44827586e-01,\n",
       "         1.46798030e-01,   1.87192118e-02,   1.57635468e-02,\n",
       "         9.85221675e-04,   5.91133005e-03,   1.87192118e-02,\n",
       "         9.85221675e-04,   3.94088670e-02,   1.43842365e-01,\n",
       "         7.88177340e-03,   1.44827586e-01,   9.85221675e-04,\n",
       "         9.45812808e-02,   2.95566502e-03,   1.87192118e-02,\n",
       "         3.37931034e-01,   1.35960591e-01,   3.05418719e-02,\n",
       "         8.86699507e-03,   3.02463054e-01,   6.00000000e-01,\n",
       "         8.86699507e-02,   3.34975369e-02,   9.85221675e-03,\n",
       "         3.34975369e-01,   6.21674877e-01,   1.97044335e-03,\n",
       "         2.06896552e-02,   1.01477833e-01,   9.85221675e-04,\n",
       "         8.74876847e-01,   1.02463054e-01,   4.35467980e-01,\n",
       "         4.38423645e-01,   1.67487685e-02,   4.92610837e-03,\n",
       "         1.97044335e-03,   7.88177340e-02,   2.56157635e-02,\n",
       "         4.14778325e-01,   4.54187192e-01,   2.66009852e-02,\n",
       "         3.74384236e-02,   4.92610837e-02,   9.85221675e-04,\n",
       "         8.85714286e-01,   2.66009852e-02,   1.34975369e-01,\n",
       "         9.55665025e-02,   7.98029557e-02,   6.62068966e-01,\n",
       "         2.75862069e-02,   1.36945813e-01,   9.85221675e-02,\n",
       "         2.80788177e-01,   5.22167488e-02,   9.55665025e-02,\n",
       "         3.09359606e-01,   2.66009852e-02,   1.18226601e-02,\n",
       "         2.06896552e-02,   8.86699507e-03,   3.25123153e-02,\n",
       "         3.84236453e-02,   8.61083744e-01,   2.66009852e-02,\n",
       "         9.85221675e-04,   9.77339901e-01,   1.37931034e-02,\n",
       "         2.95566502e-03,   1.97044335e-03,   2.95566502e-03,\n",
       "         4.98522167e-01,   3.54679803e-02,   1.67487685e-01,\n",
       "         0.00000000e+00,   2.98522167e-01,   6.50246305e-02,\n",
       "         9.34975369e-01,   6.20689655e-02,   2.16748768e-02,\n",
       "         2.95566502e-03,   9.85221675e-04,   9.12315271e-01,\n",
       "         6.07881773e-01,   3.81280788e-01,   9.85221675e-03,\n",
       "         9.85221675e-04,   9.45812808e-01,   5.22167488e-02,\n",
       "         1.97044335e-03,   5.91133005e-03,   4.42364532e-01,\n",
       "         5.28078818e-01,   2.36453202e-02,   6.20689655e-01,\n",
       "         3.74384236e-01,   4.92610837e-03,   4.92610837e-03,\n",
       "         2.85714286e-02,   2.52216749e-01,   5.40886700e-01,\n",
       "         1.51724138e-01,   1.47783251e-02,   5.91133005e-03,\n",
       "         9.85221675e-04,   9.85221675e-04,   9.52709360e-01,\n",
       "         4.53201970e-02,   9.85221675e-04,   6.40394089e-02,\n",
       "         2.95566502e-02,   3.97044335e-01,   5.09359606e-01,\n",
       "         9.85221675e-04,   8.86699507e-03,   6.79802956e-02,\n",
       "         1.85221675e-01,   2.75862069e-01,   2.26600985e-01,\n",
       "         1.24137931e-01,   5.41871921e-02,   3.44827586e-02,\n",
       "         1.37931034e-02,   6.89655172e-03,   9.85221675e-04,\n",
       "         9.85221675e-03,   3.94088670e-03,   2.56157635e-02,\n",
       "         2.16748768e-02,   1.08374384e-02,   9.85221675e-04,\n",
       "         9.27093596e-01,   4.64039409e-01,   4.48275862e-01,\n",
       "         8.27586207e-02,   4.92610837e-03,   1.37931034e-02,\n",
       "         2.06896552e-02,   2.77832512e-01,   1.37931034e-02,\n",
       "         2.09852217e-01,   4.64039409e-01,   3.94088670e-03,\n",
       "         5.92118227e-01,   1.28078818e-02,   6.30541872e-02,\n",
       "         6.89655172e-03,   2.70935961e-01,   5.02463054e-02,\n",
       "         2.29556650e-01,   2.94581281e-01,   4.25615764e-01,\n",
       "         5.02463054e-02,   5.02463054e-02,   2.72906404e-01,\n",
       "         5.47783251e-01,   1.25123153e-01,   3.94088670e-03,\n",
       "         1.97044335e-03,   3.74384236e-02,   9.85221675e-03,\n",
       "         1.97044335e-03,   8.98522167e-01,   5.02463054e-02,\n",
       "         9.85221675e-04,   2.85714286e-02,   7.88177340e-03,\n",
       "         3.94088670e-03,   9.08374384e-01,   5.02463054e-02,\n",
       "         6.30541872e-02,   2.36453202e-02,   9.13300493e-01,\n",
       "         1.97044335e-03,   0.00000000e+00,   2.95566502e-03,\n",
       "         9.95073892e-01,   4.23645320e-02,   4.63054187e-02,\n",
       "         9.55665025e-02,   5.91133005e-03,   8.09852217e-01,\n",
       "         1.97044335e-03,   1.97044335e-03,   3.64532020e-02,\n",
       "         0.00000000e+00,   9.59605911e-01,   3.84236453e-02,\n",
       "         3.34975369e-02,   7.19211823e-02,   9.16256158e-02,\n",
       "         1.43842365e-01,   1.78325123e-01,   1.61576355e-01,\n",
       "         8.57142857e-02,   3.94088670e-02,   6.00985222e-02,\n",
       "         5.41871921e-02,   4.13793103e-02,   3.05418719e-02,\n",
       "         2.95566502e-03,   1.97044335e-03,   3.94088670e-03,\n",
       "         2.95566502e-03,   3.94088670e-03,   8.86699507e-02,\n",
       "         9.85221675e-04,   8.64039409e-01,   6.69950739e-02,\n",
       "         3.94088670e-03,   6.89655172e-03,   1.67487685e-02,\n",
       "         8.14778325e-01,   9.06403941e-02,   6.97686132e+01,\n",
       "         1.06216601e+04,   1.97043645e+03,   1.98439113e+03,\n",
       "         1.02145813e+02,   4.23509360e+02,   4.56472906e+01,\n",
       "         5.83799015e+02,   1.05295567e+03,   1.16049754e+03,\n",
       "         3.61174384e+02,   5.56551724e+00,   1.52723744e+03,\n",
       "         1.97764021e+03,   4.70630542e+02,   9.60581281e+01,\n",
       "         4.75773399e+01,   2.21625616e+01,   4.23054187e+00,\n",
       "         1.45044335e+01,   2.81871921e+00,   5.22266010e+01,\n",
       "         2.00778325e+03])"
      ]
     },
     "execution_count": 29,
     "metadata": {},
     "output_type": "execute_result"
    }
   ],
   "source": [
    "simple_pipe.steps\n",
    "simple_pipe.named_steps\n",
    "simple_pipe.steps[0][1].mean_"
   ]
  },
  {
   "cell_type": "code",
   "execution_count": 30,
   "metadata": {},
   "outputs": [],
   "source": [
    "simple_pipe.named_steps['scaler'].scale_"
   ]
  },
  {
   "cell_type": "code",
   "execution_count": 31,
   "metadata": {},
   "outputs": [],
   "source": [
    "from sklearn.pipeline import make_pipeline"
   ]
  },
  {
   "cell_type": "markdown",
   "metadata": {},
   "source": [
    "lasso"
   ]
  },
  {
   "cell_type": "code",
   "execution_count": 32,
   "metadata": {},
   "outputs": [],
   "source": [
    "another_pipe = make_pipeline(StandardScaler(),\n",
    "                             Lasso())"
   ]
  },
  {
   "cell_type": "code",
   "execution_count": 34,
   "metadata": {},
   "outputs": [
    {
     "name": "stderr",
     "output_type": "stream",
     "text": [
      "/opt/conda/lib/python3.6/site-packages/sklearn/linear_model/coordinate_descent.py:491: ConvergenceWarning: Objective did not converge. You might want to increase the number of iterations. Fitting data with very small alpha may cause precision problems.\n",
      "  ConvergenceWarning)\n"
     ]
    },
    {
     "data": {
      "text/plain": [
       "0.95610457495489642"
      ]
     },
     "execution_count": 34,
     "metadata": {},
     "output_type": "execute_result"
    }
   ],
   "source": [
    "another_pipe.fit(X_train, y_train)\n",
    "another_pipe.score(X_train, y_train)"
   ]
  },
  {
   "cell_type": "code",
   "execution_count": 35,
   "metadata": {},
   "outputs": [],
   "source": [
    "another_pipe.score(X_test, y_test)"
   ]
  },
  {
   "cell_type": "code",
   "execution_count": 52,
   "metadata": {},
   "outputs": [],
   "source": [
    "from sklearn.model_selection import GridSearchCV, ShuffleSplit\n",
    "from sklearn.linear_model import ElasticNet\n",
    "import sklearn.feature_selection\n",
    "from sklearn.feature_selection import f_regression\n",
    "from sklearn.feature_selection import SelectFromModel"
   ]
  },
  {
   "cell_type": "code",
   "execution_count": 53,
   "metadata": {},
   "outputs": [],
   "source": [
    "pipe_for_gs = Pipeline([\n",
    "    ('skb', SelectKBest(score_func=f_regression, k=40)),\n",
    "    ('scaler', StandardScaler()),\n",
    "    ('sfm', SelectFromModel(Lasso())),\n",
    "    ('regr', ElasticNet())\n",
    "])"
   ]
  },
  {
   "cell_type": "code",
   "execution_count": 59,
   "metadata": {},
   "outputs": [],
   "source": [
    "params = {\n",
    "    'regr__l1_ratio':[.1,.3,.5,.7,.9],\n",
    "    'regr__alpha':np.logspace(-3,3,7)\n",
    "}"
   ]
  },
  {
   "cell_type": "code",
   "execution_count": 60,
   "metadata": {},
   "outputs": [],
   "source": [
    "gspipe = GridSearchCV(pipe_for_gs,\n",
    "                      param_grid=params,\n",
    "                      n_jobs=-1,\n",
    "                      cv=ShuffleSplit(n_splits=5, random_state=42))"
   ]
  },
  {
   "cell_type": "code",
   "execution_count": 61,
   "metadata": {},
   "outputs": [],
   "source": [
    "gspipe.fit(X_train, y_train.ravel())"
   ]
  },
  {
   "cell_type": "code",
   "execution_count": null,
   "metadata": {},
   "outputs": [],
   "source": []
  },
  {
   "cell_type": "code",
   "execution_count": 63,
   "metadata": {},
   "outputs": [
    {
     "data": {
      "text/plain": [
       "0.79137826422694679"
      ]
     },
     "execution_count": 63,
     "metadata": {},
     "output_type": "execute_result"
    }
   ],
   "source": [
    "gspipe.best_score_"
   ]
  },
  {
   "cell_type": "code",
   "execution_count": 64,
   "metadata": {},
   "outputs": [
    {
     "name": "stderr",
     "output_type": "stream",
     "text": [
      "/opt/conda/lib/python3.6/site-packages/sklearn/utils/deprecation.py:122: FutureWarning: You are accessing a training score ('mean_train_score'), which will not be available by default any more in 0.21. If you need training scores, please set return_train_score=True\n",
      "  warnings.warn(*warn_args, **warn_kwargs)\n",
      "/opt/conda/lib/python3.6/site-packages/sklearn/utils/deprecation.py:122: FutureWarning: You are accessing a training score ('split0_train_score'), which will not be available by default any more in 0.21. If you need training scores, please set return_train_score=True\n",
      "  warnings.warn(*warn_args, **warn_kwargs)\n",
      "/opt/conda/lib/python3.6/site-packages/sklearn/utils/deprecation.py:122: FutureWarning: You are accessing a training score ('split1_train_score'), which will not be available by default any more in 0.21. If you need training scores, please set return_train_score=True\n",
      "  warnings.warn(*warn_args, **warn_kwargs)\n",
      "/opt/conda/lib/python3.6/site-packages/sklearn/utils/deprecation.py:122: FutureWarning: You are accessing a training score ('split2_train_score'), which will not be available by default any more in 0.21. If you need training scores, please set return_train_score=True\n",
      "  warnings.warn(*warn_args, **warn_kwargs)\n",
      "/opt/conda/lib/python3.6/site-packages/sklearn/utils/deprecation.py:122: FutureWarning: You are accessing a training score ('split3_train_score'), which will not be available by default any more in 0.21. If you need training scores, please set return_train_score=True\n",
      "  warnings.warn(*warn_args, **warn_kwargs)\n",
      "/opt/conda/lib/python3.6/site-packages/sklearn/utils/deprecation.py:122: FutureWarning: You are accessing a training score ('split4_train_score'), which will not be available by default any more in 0.21. If you need training scores, please set return_train_score=True\n",
      "  warnings.warn(*warn_args, **warn_kwargs)\n",
      "/opt/conda/lib/python3.6/site-packages/sklearn/utils/deprecation.py:122: FutureWarning: You are accessing a training score ('std_train_score'), which will not be available by default any more in 0.21. If you need training scores, please set return_train_score=True\n",
      "  warnings.warn(*warn_args, **warn_kwargs)\n"
     ]
    },
    {
     "data": {
      "text/html": [
       "<div>\n",
       "<table border=\"1\" class=\"dataframe\">\n",
       "  <thead>\n",
       "    <tr style=\"text-align: right;\">\n",
       "      <th></th>\n",
       "      <th>64</th>\n",
       "      <th>68</th>\n",
       "      <th>60</th>\n",
       "      <th>96</th>\n",
       "      <th>72</th>\n",
       "      <th>76</th>\n",
       "      <th>40</th>\n",
       "      <th>44</th>\n",
       "      <th>48</th>\n",
       "      <th>69</th>\n",
       "      <th>...</th>\n",
       "      <th>125</th>\n",
       "      <th>120</th>\n",
       "      <th>135</th>\n",
       "      <th>121</th>\n",
       "      <th>130</th>\n",
       "      <th>131</th>\n",
       "      <th>126</th>\n",
       "      <th>127</th>\n",
       "      <th>122</th>\n",
       "      <th>123</th>\n",
       "    </tr>\n",
       "  </thead>\n",
       "  <tbody>\n",
       "    <tr>\n",
       "      <th>mean_fit_time</th>\n",
       "      <td>0.0509321</td>\n",
       "      <td>0.0517353</td>\n",
       "      <td>0.0434823</td>\n",
       "      <td>0.0496902</td>\n",
       "      <td>0.0516068</td>\n",
       "      <td>0.0495643</td>\n",
       "      <td>0.0493138</td>\n",
       "      <td>0.0475366</td>\n",
       "      <td>0.0474107</td>\n",
       "      <td>0.0288852</td>\n",
       "      <td>...</td>\n",
       "      <td>0.0274565</td>\n",
       "      <td>0.0469326</td>\n",
       "      <td>0.00887723</td>\n",
       "      <td>0.0284831</td>\n",
       "      <td>0.00897145</td>\n",
       "      <td>0.00979552</td>\n",
       "      <td>0.0088058</td>\n",
       "      <td>0.00832796</td>\n",
       "      <td>0.00872126</td>\n",
       "      <td>0.00887065</td>\n",
       "    </tr>\n",
       "    <tr>\n",
       "      <th>mean_score_time</th>\n",
       "      <td>0.000846195</td>\n",
       "      <td>0.000880241</td>\n",
       "      <td>0.000854397</td>\n",
       "      <td>0.00101428</td>\n",
       "      <td>0.000871229</td>\n",
       "      <td>0.000871515</td>\n",
       "      <td>0.000854349</td>\n",
       "      <td>0.000852919</td>\n",
       "      <td>0.000869751</td>\n",
       "      <td>0.000784111</td>\n",
       "      <td>...</td>\n",
       "      <td>0.000806141</td>\n",
       "      <td>0.00086832</td>\n",
       "      <td>0.000790215</td>\n",
       "      <td>0.000839996</td>\n",
       "      <td>0.000810909</td>\n",
       "      <td>0.000948477</td>\n",
       "      <td>0.000811863</td>\n",
       "      <td>0.000787735</td>\n",
       "      <td>0.000792074</td>\n",
       "      <td>0.000783062</td>\n",
       "    </tr>\n",
       "    <tr>\n",
       "      <th>mean_test_score</th>\n",
       "      <td>0.791378</td>\n",
       "      <td>0.791038</td>\n",
       "      <td>0.790106</td>\n",
       "      <td>0.789046</td>\n",
       "      <td>0.787892</td>\n",
       "      <td>0.778927</td>\n",
       "      <td>0.778184</td>\n",
       "      <td>0.776554</td>\n",
       "      <td>0.774672</td>\n",
       "      <td>0.774662</td>\n",
       "      <td>...</td>\n",
       "      <td>0.021565</td>\n",
       "      <td>0.0188228</td>\n",
       "      <td>0.0181643</td>\n",
       "      <td>0.0164336</td>\n",
       "      <td>0.0130621</td>\n",
       "      <td>0.0101075</td>\n",
       "      <td>0.00874781</td>\n",
       "      <td>0.00660796</td>\n",
       "      <td>0.00633337</td>\n",
       "      <td>0.00465153</td>\n",
       "    </tr>\n",
       "    <tr>\n",
       "      <th>mean_train_score</th>\n",
       "      <td>0.838624</td>\n",
       "      <td>0.844258</td>\n",
       "      <td>0.833029</td>\n",
       "      <td>0.8302</td>\n",
       "      <td>0.849965</td>\n",
       "      <td>0.855886</td>\n",
       "      <td>0.856196</td>\n",
       "      <td>0.85681</td>\n",
       "      <td>0.857431</td>\n",
       "      <td>0.83364</td>\n",
       "      <td>...</td>\n",
       "      <td>0.0243805</td>\n",
       "      <td>0.0215737</td>\n",
       "      <td>0.0215725</td>\n",
       "      <td>0.0191644</td>\n",
       "      <td>0.0161253</td>\n",
       "      <td>0.0131276</td>\n",
       "      <td>0.0116324</td>\n",
       "      <td>0.00946061</td>\n",
       "      <td>0.00911824</td>\n",
       "      <td>0.00741085</td>\n",
       "    </tr>\n",
       "    <tr>\n",
       "      <th>param_regr__alpha</th>\n",
       "      <td>1</td>\n",
       "      <td>1</td>\n",
       "      <td>1</td>\n",
       "      <td>10</td>\n",
       "      <td>1</td>\n",
       "      <td>1</td>\n",
       "      <td>0.1</td>\n",
       "      <td>0.1</td>\n",
       "      <td>0.1</td>\n",
       "      <td>1</td>\n",
       "      <td>...</td>\n",
       "      <td>1000</td>\n",
       "      <td>1000</td>\n",
       "      <td>1000</td>\n",
       "      <td>1000</td>\n",
       "      <td>1000</td>\n",
       "      <td>1000</td>\n",
       "      <td>1000</td>\n",
       "      <td>1000</td>\n",
       "      <td>1000</td>\n",
       "      <td>1000</td>\n",
       "    </tr>\n",
       "    <tr>\n",
       "      <th>param_regr__l1_ratio</th>\n",
       "      <td>0.3</td>\n",
       "      <td>0.5</td>\n",
       "      <td>0.1</td>\n",
       "      <td>0.9</td>\n",
       "      <td>0.7</td>\n",
       "      <td>0.9</td>\n",
       "      <td>0.1</td>\n",
       "      <td>0.3</td>\n",
       "      <td>0.5</td>\n",
       "      <td>0.5</td>\n",
       "      <td>...</td>\n",
       "      <td>0.3</td>\n",
       "      <td>0.1</td>\n",
       "      <td>0.7</td>\n",
       "      <td>0.1</td>\n",
       "      <td>0.5</td>\n",
       "      <td>0.5</td>\n",
       "      <td>0.3</td>\n",
       "      <td>0.3</td>\n",
       "      <td>0.1</td>\n",
       "      <td>0.1</td>\n",
       "    </tr>\n",
       "    <tr>\n",
       "      <th>param_sfm__estimator</th>\n",
       "      <td>Lasso(alpha=1.0, copy_X=True, fit_intercept=Tr...</td>\n",
       "      <td>Lasso(alpha=1.0, copy_X=True, fit_intercept=Tr...</td>\n",
       "      <td>Lasso(alpha=1.0, copy_X=True, fit_intercept=Tr...</td>\n",
       "      <td>Lasso(alpha=1.0, copy_X=True, fit_intercept=Tr...</td>\n",
       "      <td>Lasso(alpha=1.0, copy_X=True, fit_intercept=Tr...</td>\n",
       "      <td>Lasso(alpha=1.0, copy_X=True, fit_intercept=Tr...</td>\n",
       "      <td>Lasso(alpha=1.0, copy_X=True, fit_intercept=Tr...</td>\n",
       "      <td>Lasso(alpha=1.0, copy_X=True, fit_intercept=Tr...</td>\n",
       "      <td>Lasso(alpha=1.0, copy_X=True, fit_intercept=Tr...</td>\n",
       "      <td>Lasso(alpha=1.0, copy_X=True, fit_intercept=Tr...</td>\n",
       "      <td>...</td>\n",
       "      <td>Lasso(alpha=1.0, copy_X=True, fit_intercept=Tr...</td>\n",
       "      <td>Lasso(alpha=1.0, copy_X=True, fit_intercept=Tr...</td>\n",
       "      <td>Ridge(alpha=1.0, copy_X=True, fit_intercept=Tr...</td>\n",
       "      <td>Lasso(alpha=1.0, copy_X=True, fit_intercept=Tr...</td>\n",
       "      <td>Ridge(alpha=1.0, copy_X=True, fit_intercept=Tr...</td>\n",
       "      <td>Ridge(alpha=1.0, copy_X=True, fit_intercept=Tr...</td>\n",
       "      <td>Ridge(alpha=1.0, copy_X=True, fit_intercept=Tr...</td>\n",
       "      <td>Ridge(alpha=1.0, copy_X=True, fit_intercept=Tr...</td>\n",
       "      <td>Ridge(alpha=1.0, copy_X=True, fit_intercept=Tr...</td>\n",
       "      <td>Ridge(alpha=1.0, copy_X=True, fit_intercept=Tr...</td>\n",
       "    </tr>\n",
       "    <tr>\n",
       "      <th>param_skb__k</th>\n",
       "      <td>50</td>\n",
       "      <td>50</td>\n",
       "      <td>50</td>\n",
       "      <td>50</td>\n",
       "      <td>50</td>\n",
       "      <td>50</td>\n",
       "      <td>50</td>\n",
       "      <td>50</td>\n",
       "      <td>50</td>\n",
       "      <td>40</td>\n",
       "      <td>...</td>\n",
       "      <td>40</td>\n",
       "      <td>50</td>\n",
       "      <td>40</td>\n",
       "      <td>40</td>\n",
       "      <td>50</td>\n",
       "      <td>40</td>\n",
       "      <td>50</td>\n",
       "      <td>40</td>\n",
       "      <td>50</td>\n",
       "      <td>40</td>\n",
       "    </tr>\n",
       "    <tr>\n",
       "      <th>params</th>\n",
       "      <td>{'regr__alpha': 1.0, 'regr__l1_ratio': 0.3, 's...</td>\n",
       "      <td>{'regr__alpha': 1.0, 'regr__l1_ratio': 0.5, 's...</td>\n",
       "      <td>{'regr__alpha': 1.0, 'regr__l1_ratio': 0.1, 's...</td>\n",
       "      <td>{'regr__alpha': 10.0, 'regr__l1_ratio': 0.9, '...</td>\n",
       "      <td>{'regr__alpha': 1.0, 'regr__l1_ratio': 0.7, 's...</td>\n",
       "      <td>{'regr__alpha': 1.0, 'regr__l1_ratio': 0.9, 's...</td>\n",
       "      <td>{'regr__alpha': 0.1, 'regr__l1_ratio': 0.1, 's...</td>\n",
       "      <td>{'regr__alpha': 0.1, 'regr__l1_ratio': 0.3, 's...</td>\n",
       "      <td>{'regr__alpha': 0.1, 'regr__l1_ratio': 0.5, 's...</td>\n",
       "      <td>{'regr__alpha': 1.0, 'regr__l1_ratio': 0.5, 's...</td>\n",
       "      <td>...</td>\n",
       "      <td>{'regr__alpha': 1000.0, 'regr__l1_ratio': 0.3,...</td>\n",
       "      <td>{'regr__alpha': 1000.0, 'regr__l1_ratio': 0.1,...</td>\n",
       "      <td>{'regr__alpha': 1000.0, 'regr__l1_ratio': 0.7,...</td>\n",
       "      <td>{'regr__alpha': 1000.0, 'regr__l1_ratio': 0.1,...</td>\n",
       "      <td>{'regr__alpha': 1000.0, 'regr__l1_ratio': 0.5,...</td>\n",
       "      <td>{'regr__alpha': 1000.0, 'regr__l1_ratio': 0.5,...</td>\n",
       "      <td>{'regr__alpha': 1000.0, 'regr__l1_ratio': 0.3,...</td>\n",
       "      <td>{'regr__alpha': 1000.0, 'regr__l1_ratio': 0.3,...</td>\n",
       "      <td>{'regr__alpha': 1000.0, 'regr__l1_ratio': 0.1,...</td>\n",
       "      <td>{'regr__alpha': 1000.0, 'regr__l1_ratio': 0.1,...</td>\n",
       "    </tr>\n",
       "    <tr>\n",
       "      <th>rank_test_score</th>\n",
       "      <td>1</td>\n",
       "      <td>2</td>\n",
       "      <td>3</td>\n",
       "      <td>4</td>\n",
       "      <td>5</td>\n",
       "      <td>6</td>\n",
       "      <td>7</td>\n",
       "      <td>8</td>\n",
       "      <td>9</td>\n",
       "      <td>10</td>\n",
       "      <td>...</td>\n",
       "      <td>131</td>\n",
       "      <td>132</td>\n",
       "      <td>133</td>\n",
       "      <td>134</td>\n",
       "      <td>135</td>\n",
       "      <td>136</td>\n",
       "      <td>137</td>\n",
       "      <td>138</td>\n",
       "      <td>139</td>\n",
       "      <td>140</td>\n",
       "    </tr>\n",
       "    <tr>\n",
       "      <th>split0_test_score</th>\n",
       "      <td>0.536771</td>\n",
       "      <td>0.524616</td>\n",
       "      <td>0.54408</td>\n",
       "      <td>0.546517</td>\n",
       "      <td>0.504115</td>\n",
       "      <td>0.467556</td>\n",
       "      <td>0.465066</td>\n",
       "      <td>0.459865</td>\n",
       "      <td>0.454369</td>\n",
       "      <td>0.470932</td>\n",
       "      <td>...</td>\n",
       "      <td>0.0124557</td>\n",
       "      <td>0.0104248</td>\n",
       "      <td>0.00957572</td>\n",
       "      <td>0.00880726</td>\n",
       "      <td>0.00533514</td>\n",
       "      <td>0.00402382</td>\n",
       "      <td>0.00256042</td>\n",
       "      <td>0.00161293</td>\n",
       "      <td>0.00100888</td>\n",
       "      <td>0.000265267</td>\n",
       "    </tr>\n",
       "    <tr>\n",
       "      <th>split0_train_score</th>\n",
       "      <td>0.872468</td>\n",
       "      <td>0.878824</td>\n",
       "      <td>0.866084</td>\n",
       "      <td>0.86285</td>\n",
       "      <td>0.885026</td>\n",
       "      <td>0.890709</td>\n",
       "      <td>0.890968</td>\n",
       "      <td>0.891467</td>\n",
       "      <td>0.891957</td>\n",
       "      <td>0.867405</td>\n",
       "      <td>...</td>\n",
       "      <td>0.0258935</td>\n",
       "      <td>0.0226214</td>\n",
       "      <td>0.0213036</td>\n",
       "      <td>0.0203578</td>\n",
       "      <td>0.0144778</td>\n",
       "      <td>0.0129563</td>\n",
       "      <td>0.0104361</td>\n",
       "      <td>0.00933481</td>\n",
       "      <td>0.00817682</td>\n",
       "      <td>0.00731127</td>\n",
       "    </tr>\n",
       "    <tr>\n",
       "      <th>split1_test_score</th>\n",
       "      <td>0.857954</td>\n",
       "      <td>0.861043</td>\n",
       "      <td>0.854569</td>\n",
       "      <td>0.852744</td>\n",
       "      <td>0.863687</td>\n",
       "      <td>0.865241</td>\n",
       "      <td>0.865234</td>\n",
       "      <td>0.86515</td>\n",
       "      <td>0.864932</td>\n",
       "      <td>0.846192</td>\n",
       "      <td>...</td>\n",
       "      <td>0.0246135</td>\n",
       "      <td>0.0221402</td>\n",
       "      <td>0.0175585</td>\n",
       "      <td>0.0191388</td>\n",
       "      <td>0.0141823</td>\n",
       "      <td>0.0102922</td>\n",
       "      <td>0.00995624</td>\n",
       "      <td>0.00714177</td>\n",
       "      <td>0.00759232</td>\n",
       "      <td>0.00538202</td>\n",
       "    </tr>\n",
       "    <tr>\n",
       "      <th>split1_train_score</th>\n",
       "      <td>0.830918</td>\n",
       "      <td>0.836391</td>\n",
       "      <td>0.82547</td>\n",
       "      <td>0.8227</td>\n",
       "      <td>0.841963</td>\n",
       "      <td>0.847895</td>\n",
       "      <td>0.848212</td>\n",
       "      <td>0.848839</td>\n",
       "      <td>0.849471</td>\n",
       "      <td>0.824752</td>\n",
       "      <td>...</td>\n",
       "      <td>0.0233736</td>\n",
       "      <td>0.0210872</td>\n",
       "      <td>0.0187298</td>\n",
       "      <td>0.0183698</td>\n",
       "      <td>0.0148013</td>\n",
       "      <td>0.0113832</td>\n",
       "      <td>0.0106739</td>\n",
       "      <td>0.00819869</td>\n",
       "      <td>0.00836538</td>\n",
       "      <td>0.00642011</td>\n",
       "    </tr>\n",
       "    <tr>\n",
       "      <th>split2_test_score</th>\n",
       "      <td>0.884499</td>\n",
       "      <td>0.888945</td>\n",
       "      <td>0.879817</td>\n",
       "      <td>0.877414</td>\n",
       "      <td>0.892873</td>\n",
       "      <td>0.895177</td>\n",
       "      <td>0.895157</td>\n",
       "      <td>0.895014</td>\n",
       "      <td>0.894639</td>\n",
       "      <td>0.882414</td>\n",
       "      <td>...</td>\n",
       "      <td>0.0231535</td>\n",
       "      <td>0.0205197</td>\n",
       "      <td>0.0186302</td>\n",
       "      <td>0.0172175</td>\n",
       "      <td>0.0129782</td>\n",
       "      <td>0.00954113</td>\n",
       "      <td>0.00808046</td>\n",
       "      <td>0.00559101</td>\n",
       "      <td>0.00533882</td>\n",
       "      <td>0.00338207</td>\n",
       "    </tr>\n",
       "    <tr>\n",
       "      <th>split2_train_score</th>\n",
       "      <td>0.826405</td>\n",
       "      <td>0.831941</td>\n",
       "      <td>0.820964</td>\n",
       "      <td>0.818234</td>\n",
       "      <td>0.837634</td>\n",
       "      <td>0.843648</td>\n",
       "      <td>0.843966</td>\n",
       "      <td>0.844597</td>\n",
       "      <td>0.845244</td>\n",
       "      <td>0.823053</td>\n",
       "      <td>...</td>\n",
       "      <td>0.0238917</td>\n",
       "      <td>0.0214082</td>\n",
       "      <td>0.0212503</td>\n",
       "      <td>0.0187778</td>\n",
       "      <td>0.0158572</td>\n",
       "      <td>0.0129317</td>\n",
       "      <td>0.0114368</td>\n",
       "      <td>0.00931918</td>\n",
       "      <td>0.00896345</td>\n",
       "      <td>0.00729977</td>\n",
       "    </tr>\n",
       "    <tr>\n",
       "      <th>split3_test_score</th>\n",
       "      <td>0.859543</td>\n",
       "      <td>0.854805</td>\n",
       "      <td>0.861706</td>\n",
       "      <td>0.862128</td>\n",
       "      <td>0.845782</td>\n",
       "      <td>0.827956</td>\n",
       "      <td>0.826588</td>\n",
       "      <td>0.823605</td>\n",
       "      <td>0.820165</td>\n",
       "      <td>0.848741</td>\n",
       "      <td>...</td>\n",
       "      <td>0.0263908</td>\n",
       "      <td>0.0224057</td>\n",
       "      <td>0.0224541</td>\n",
       "      <td>0.0204007</td>\n",
       "      <td>0.0155803</td>\n",
       "      <td>0.0130382</td>\n",
       "      <td>0.0107877</td>\n",
       "      <td>0.00894672</td>\n",
       "      <td>0.00810604</td>\n",
       "      <td>0.00665893</td>\n",
       "    </tr>\n",
       "    <tr>\n",
       "      <th>split3_train_score</th>\n",
       "      <td>0.830198</td>\n",
       "      <td>0.835495</td>\n",
       "      <td>0.82492</td>\n",
       "      <td>0.822246</td>\n",
       "      <td>0.840872</td>\n",
       "      <td>0.84665</td>\n",
       "      <td>0.846973</td>\n",
       "      <td>0.847627</td>\n",
       "      <td>0.848317</td>\n",
       "      <td>0.827213</td>\n",
       "      <td>...</td>\n",
       "      <td>0.0241981</td>\n",
       "      <td>0.0212891</td>\n",
       "      <td>0.0211484</td>\n",
       "      <td>0.019021</td>\n",
       "      <td>0.0157679</td>\n",
       "      <td>0.0128695</td>\n",
       "      <td>0.0113743</td>\n",
       "      <td>0.00927464</td>\n",
       "      <td>0.00891604</td>\n",
       "      <td>0.00726519</td>\n",
       "    </tr>\n",
       "    <tr>\n",
       "      <th>split4_test_score</th>\n",
       "      <td>0.818125</td>\n",
       "      <td>0.825783</td>\n",
       "      <td>0.810356</td>\n",
       "      <td>0.806426</td>\n",
       "      <td>0.833001</td>\n",
       "      <td>0.838703</td>\n",
       "      <td>0.838876</td>\n",
       "      <td>0.839138</td>\n",
       "      <td>0.839255</td>\n",
       "      <td>0.825033</td>\n",
       "      <td>...</td>\n",
       "      <td>0.0212114</td>\n",
       "      <td>0.0186238</td>\n",
       "      <td>0.0226029</td>\n",
       "      <td>0.0166036</td>\n",
       "      <td>0.0172345</td>\n",
       "      <td>0.0136421</td>\n",
       "      <td>0.0123542</td>\n",
       "      <td>0.00974738</td>\n",
       "      <td>0.0096208</td>\n",
       "      <td>0.00756935</td>\n",
       "    </tr>\n",
       "    <tr>\n",
       "      <th>split4_train_score</th>\n",
       "      <td>0.83313</td>\n",
       "      <td>0.838638</td>\n",
       "      <td>0.827708</td>\n",
       "      <td>0.824969</td>\n",
       "      <td>0.844331</td>\n",
       "      <td>0.850527</td>\n",
       "      <td>0.85086</td>\n",
       "      <td>0.851518</td>\n",
       "      <td>0.852169</td>\n",
       "      <td>0.825778</td>\n",
       "      <td>...</td>\n",
       "      <td>0.0245457</td>\n",
       "      <td>0.0214624</td>\n",
       "      <td>0.0254306</td>\n",
       "      <td>0.0192956</td>\n",
       "      <td>0.0197222</td>\n",
       "      <td>0.0154972</td>\n",
       "      <td>0.0142408</td>\n",
       "      <td>0.0111757</td>\n",
       "      <td>0.0111695</td>\n",
       "      <td>0.00875791</td>\n",
       "    </tr>\n",
       "    <tr>\n",
       "      <th>std_fit_time</th>\n",
       "      <td>0.00267457</td>\n",
       "      <td>0.00306286</td>\n",
       "      <td>0.00330252</td>\n",
       "      <td>0.0032496</td>\n",
       "      <td>0.00339812</td>\n",
       "      <td>0.00616575</td>\n",
       "      <td>0.00720796</td>\n",
       "      <td>0.00377829</td>\n",
       "      <td>0.00263535</td>\n",
       "      <td>0.00782789</td>\n",
       "      <td>...</td>\n",
       "      <td>0.00776883</td>\n",
       "      <td>0.005566</td>\n",
       "      <td>0.000760983</td>\n",
       "      <td>0.0095204</td>\n",
       "      <td>0.000240581</td>\n",
       "      <td>0.00154429</td>\n",
       "      <td>0.000218464</td>\n",
       "      <td>0.000156108</td>\n",
       "      <td>0.000218082</td>\n",
       "      <td>0.00128244</td>\n",
       "    </tr>\n",
       "    <tr>\n",
       "      <th>std_score_time</th>\n",
       "      <td>3.45572e-05</td>\n",
       "      <td>1.83077e-05</td>\n",
       "      <td>2.95045e-05</td>\n",
       "      <td>0.000311649</td>\n",
       "      <td>3.99973e-05</td>\n",
       "      <td>2.92646e-05</td>\n",
       "      <td>2.34595e-05</td>\n",
       "      <td>3.72698e-05</td>\n",
       "      <td>1.45876e-05</td>\n",
       "      <td>2.03953e-05</td>\n",
       "      <td>...</td>\n",
       "      <td>2.27189e-05</td>\n",
       "      <td>3.06384e-05</td>\n",
       "      <td>1.7931e-05</td>\n",
       "      <td>2.84961e-05</td>\n",
       "      <td>1.19898e-05</td>\n",
       "      <td>0.000280941</td>\n",
       "      <td>6.69511e-06</td>\n",
       "      <td>1.79502e-05</td>\n",
       "      <td>1.09594e-05</td>\n",
       "      <td>9.26538e-06</td>\n",
       "    </tr>\n",
       "    <tr>\n",
       "      <th>std_test_score</th>\n",
       "      <td>0.129066</td>\n",
       "      <td>0.134715</td>\n",
       "      <td>0.125115</td>\n",
       "      <td>0.123555</td>\n",
       "      <td>0.143305</td>\n",
       "      <td>0.157412</td>\n",
       "      <td>0.158322</td>\n",
       "      <td>0.16019</td>\n",
       "      <td>0.162095</td>\n",
       "      <td>0.152973</td>\n",
       "      <td>...</td>\n",
       "      <td>0.00486232</td>\n",
       "      <td>0.00441109</td>\n",
       "      <td>0.00474239</td>\n",
       "      <td>0.00404625</td>\n",
       "      <td>0.00411626</td>\n",
       "      <td>0.00341901</td>\n",
       "      <td>0.00338693</td>\n",
       "      <td>0.00288428</td>\n",
       "      <td>0.00299579</td>\n",
       "      <td>0.00260491</td>\n",
       "    </tr>\n",
       "    <tr>\n",
       "      <th>std_train_score</th>\n",
       "      <td>0.0170606</td>\n",
       "      <td>0.017417</td>\n",
       "      <td>0.0166698</td>\n",
       "      <td>0.0164688</td>\n",
       "      <td>0.0176621</td>\n",
       "      <td>0.0175516</td>\n",
       "      <td>0.0175268</td>\n",
       "      <td>0.0174708</td>\n",
       "      <td>0.0174053</td>\n",
       "      <td>0.0169366</td>\n",
       "      <td>...</td>\n",
       "      <td>0.000848823</td>\n",
       "      <td>0.000539461</td>\n",
       "      <td>0.0021597</td>\n",
       "      <td>0.000669765</td>\n",
       "      <td>0.00187642</td>\n",
       "      <td>0.00132608</td>\n",
       "      <td>0.00136077</td>\n",
       "      <td>0.000959626</td>\n",
       "      <td>0.0010701</td>\n",
       "      <td>0.000753607</td>\n",
       "    </tr>\n",
       "  </tbody>\n",
       "</table>\n",
       "<p>24 rows × 140 columns</p>\n",
       "</div>"
      ],
      "text/plain": [
       "                                                                    64   \\\n",
       "mean_fit_time                                                 0.0509321   \n",
       "mean_score_time                                             0.000846195   \n",
       "mean_test_score                                                0.791378   \n",
       "mean_train_score                                               0.838624   \n",
       "param_regr__alpha                                                     1   \n",
       "param_regr__l1_ratio                                                0.3   \n",
       "param_sfm__estimator  Lasso(alpha=1.0, copy_X=True, fit_intercept=Tr...   \n",
       "param_skb__k                                                         50   \n",
       "params                {'regr__alpha': 1.0, 'regr__l1_ratio': 0.3, 's...   \n",
       "rank_test_score                                                       1   \n",
       "split0_test_score                                              0.536771   \n",
       "split0_train_score                                             0.872468   \n",
       "split1_test_score                                              0.857954   \n",
       "split1_train_score                                             0.830918   \n",
       "split2_test_score                                              0.884499   \n",
       "split2_train_score                                             0.826405   \n",
       "split3_test_score                                              0.859543   \n",
       "split3_train_score                                             0.830198   \n",
       "split4_test_score                                              0.818125   \n",
       "split4_train_score                                              0.83313   \n",
       "std_fit_time                                                 0.00267457   \n",
       "std_score_time                                              3.45572e-05   \n",
       "std_test_score                                                 0.129066   \n",
       "std_train_score                                               0.0170606   \n",
       "\n",
       "                                                                    68   \\\n",
       "mean_fit_time                                                 0.0517353   \n",
       "mean_score_time                                             0.000880241   \n",
       "mean_test_score                                                0.791038   \n",
       "mean_train_score                                               0.844258   \n",
       "param_regr__alpha                                                     1   \n",
       "param_regr__l1_ratio                                                0.5   \n",
       "param_sfm__estimator  Lasso(alpha=1.0, copy_X=True, fit_intercept=Tr...   \n",
       "param_skb__k                                                         50   \n",
       "params                {'regr__alpha': 1.0, 'regr__l1_ratio': 0.5, 's...   \n",
       "rank_test_score                                                       2   \n",
       "split0_test_score                                              0.524616   \n",
       "split0_train_score                                             0.878824   \n",
       "split1_test_score                                              0.861043   \n",
       "split1_train_score                                             0.836391   \n",
       "split2_test_score                                              0.888945   \n",
       "split2_train_score                                             0.831941   \n",
       "split3_test_score                                              0.854805   \n",
       "split3_train_score                                             0.835495   \n",
       "split4_test_score                                              0.825783   \n",
       "split4_train_score                                             0.838638   \n",
       "std_fit_time                                                 0.00306286   \n",
       "std_score_time                                              1.83077e-05   \n",
       "std_test_score                                                 0.134715   \n",
       "std_train_score                                                0.017417   \n",
       "\n",
       "                                                                    60   \\\n",
       "mean_fit_time                                                 0.0434823   \n",
       "mean_score_time                                             0.000854397   \n",
       "mean_test_score                                                0.790106   \n",
       "mean_train_score                                               0.833029   \n",
       "param_regr__alpha                                                     1   \n",
       "param_regr__l1_ratio                                                0.1   \n",
       "param_sfm__estimator  Lasso(alpha=1.0, copy_X=True, fit_intercept=Tr...   \n",
       "param_skb__k                                                         50   \n",
       "params                {'regr__alpha': 1.0, 'regr__l1_ratio': 0.1, 's...   \n",
       "rank_test_score                                                       3   \n",
       "split0_test_score                                               0.54408   \n",
       "split0_train_score                                             0.866084   \n",
       "split1_test_score                                              0.854569   \n",
       "split1_train_score                                              0.82547   \n",
       "split2_test_score                                              0.879817   \n",
       "split2_train_score                                             0.820964   \n",
       "split3_test_score                                              0.861706   \n",
       "split3_train_score                                              0.82492   \n",
       "split4_test_score                                              0.810356   \n",
       "split4_train_score                                             0.827708   \n",
       "std_fit_time                                                 0.00330252   \n",
       "std_score_time                                              2.95045e-05   \n",
       "std_test_score                                                 0.125115   \n",
       "std_train_score                                               0.0166698   \n",
       "\n",
       "                                                                    96   \\\n",
       "mean_fit_time                                                 0.0496902   \n",
       "mean_score_time                                              0.00101428   \n",
       "mean_test_score                                                0.789046   \n",
       "mean_train_score                                                 0.8302   \n",
       "param_regr__alpha                                                    10   \n",
       "param_regr__l1_ratio                                                0.9   \n",
       "param_sfm__estimator  Lasso(alpha=1.0, copy_X=True, fit_intercept=Tr...   \n",
       "param_skb__k                                                         50   \n",
       "params                {'regr__alpha': 10.0, 'regr__l1_ratio': 0.9, '...   \n",
       "rank_test_score                                                       4   \n",
       "split0_test_score                                              0.546517   \n",
       "split0_train_score                                              0.86285   \n",
       "split1_test_score                                              0.852744   \n",
       "split1_train_score                                               0.8227   \n",
       "split2_test_score                                              0.877414   \n",
       "split2_train_score                                             0.818234   \n",
       "split3_test_score                                              0.862128   \n",
       "split3_train_score                                             0.822246   \n",
       "split4_test_score                                              0.806426   \n",
       "split4_train_score                                             0.824969   \n",
       "std_fit_time                                                  0.0032496   \n",
       "std_score_time                                              0.000311649   \n",
       "std_test_score                                                 0.123555   \n",
       "std_train_score                                               0.0164688   \n",
       "\n",
       "                                                                    72   \\\n",
       "mean_fit_time                                                 0.0516068   \n",
       "mean_score_time                                             0.000871229   \n",
       "mean_test_score                                                0.787892   \n",
       "mean_train_score                                               0.849965   \n",
       "param_regr__alpha                                                     1   \n",
       "param_regr__l1_ratio                                                0.7   \n",
       "param_sfm__estimator  Lasso(alpha=1.0, copy_X=True, fit_intercept=Tr...   \n",
       "param_skb__k                                                         50   \n",
       "params                {'regr__alpha': 1.0, 'regr__l1_ratio': 0.7, 's...   \n",
       "rank_test_score                                                       5   \n",
       "split0_test_score                                              0.504115   \n",
       "split0_train_score                                             0.885026   \n",
       "split1_test_score                                              0.863687   \n",
       "split1_train_score                                             0.841963   \n",
       "split2_test_score                                              0.892873   \n",
       "split2_train_score                                             0.837634   \n",
       "split3_test_score                                              0.845782   \n",
       "split3_train_score                                             0.840872   \n",
       "split4_test_score                                              0.833001   \n",
       "split4_train_score                                             0.844331   \n",
       "std_fit_time                                                 0.00339812   \n",
       "std_score_time                                              3.99973e-05   \n",
       "std_test_score                                                 0.143305   \n",
       "std_train_score                                               0.0176621   \n",
       "\n",
       "                                                                    76   \\\n",
       "mean_fit_time                                                 0.0495643   \n",
       "mean_score_time                                             0.000871515   \n",
       "mean_test_score                                                0.778927   \n",
       "mean_train_score                                               0.855886   \n",
       "param_regr__alpha                                                     1   \n",
       "param_regr__l1_ratio                                                0.9   \n",
       "param_sfm__estimator  Lasso(alpha=1.0, copy_X=True, fit_intercept=Tr...   \n",
       "param_skb__k                                                         50   \n",
       "params                {'regr__alpha': 1.0, 'regr__l1_ratio': 0.9, 's...   \n",
       "rank_test_score                                                       6   \n",
       "split0_test_score                                              0.467556   \n",
       "split0_train_score                                             0.890709   \n",
       "split1_test_score                                              0.865241   \n",
       "split1_train_score                                             0.847895   \n",
       "split2_test_score                                              0.895177   \n",
       "split2_train_score                                             0.843648   \n",
       "split3_test_score                                              0.827956   \n",
       "split3_train_score                                              0.84665   \n",
       "split4_test_score                                              0.838703   \n",
       "split4_train_score                                             0.850527   \n",
       "std_fit_time                                                 0.00616575   \n",
       "std_score_time                                              2.92646e-05   \n",
       "std_test_score                                                 0.157412   \n",
       "std_train_score                                               0.0175516   \n",
       "\n",
       "                                                                    40   \\\n",
       "mean_fit_time                                                 0.0493138   \n",
       "mean_score_time                                             0.000854349   \n",
       "mean_test_score                                                0.778184   \n",
       "mean_train_score                                               0.856196   \n",
       "param_regr__alpha                                                   0.1   \n",
       "param_regr__l1_ratio                                                0.1   \n",
       "param_sfm__estimator  Lasso(alpha=1.0, copy_X=True, fit_intercept=Tr...   \n",
       "param_skb__k                                                         50   \n",
       "params                {'regr__alpha': 0.1, 'regr__l1_ratio': 0.1, 's...   \n",
       "rank_test_score                                                       7   \n",
       "split0_test_score                                              0.465066   \n",
       "split0_train_score                                             0.890968   \n",
       "split1_test_score                                              0.865234   \n",
       "split1_train_score                                             0.848212   \n",
       "split2_test_score                                              0.895157   \n",
       "split2_train_score                                             0.843966   \n",
       "split3_test_score                                              0.826588   \n",
       "split3_train_score                                             0.846973   \n",
       "split4_test_score                                              0.838876   \n",
       "split4_train_score                                              0.85086   \n",
       "std_fit_time                                                 0.00720796   \n",
       "std_score_time                                              2.34595e-05   \n",
       "std_test_score                                                 0.158322   \n",
       "std_train_score                                               0.0175268   \n",
       "\n",
       "                                                                    44   \\\n",
       "mean_fit_time                                                 0.0475366   \n",
       "mean_score_time                                             0.000852919   \n",
       "mean_test_score                                                0.776554   \n",
       "mean_train_score                                                0.85681   \n",
       "param_regr__alpha                                                   0.1   \n",
       "param_regr__l1_ratio                                                0.3   \n",
       "param_sfm__estimator  Lasso(alpha=1.0, copy_X=True, fit_intercept=Tr...   \n",
       "param_skb__k                                                         50   \n",
       "params                {'regr__alpha': 0.1, 'regr__l1_ratio': 0.3, 's...   \n",
       "rank_test_score                                                       8   \n",
       "split0_test_score                                              0.459865   \n",
       "split0_train_score                                             0.891467   \n",
       "split1_test_score                                               0.86515   \n",
       "split1_train_score                                             0.848839   \n",
       "split2_test_score                                              0.895014   \n",
       "split2_train_score                                             0.844597   \n",
       "split3_test_score                                              0.823605   \n",
       "split3_train_score                                             0.847627   \n",
       "split4_test_score                                              0.839138   \n",
       "split4_train_score                                             0.851518   \n",
       "std_fit_time                                                 0.00377829   \n",
       "std_score_time                                              3.72698e-05   \n",
       "std_test_score                                                  0.16019   \n",
       "std_train_score                                               0.0174708   \n",
       "\n",
       "                                                                    48   \\\n",
       "mean_fit_time                                                 0.0474107   \n",
       "mean_score_time                                             0.000869751   \n",
       "mean_test_score                                                0.774672   \n",
       "mean_train_score                                               0.857431   \n",
       "param_regr__alpha                                                   0.1   \n",
       "param_regr__l1_ratio                                                0.5   \n",
       "param_sfm__estimator  Lasso(alpha=1.0, copy_X=True, fit_intercept=Tr...   \n",
       "param_skb__k                                                         50   \n",
       "params                {'regr__alpha': 0.1, 'regr__l1_ratio': 0.5, 's...   \n",
       "rank_test_score                                                       9   \n",
       "split0_test_score                                              0.454369   \n",
       "split0_train_score                                             0.891957   \n",
       "split1_test_score                                              0.864932   \n",
       "split1_train_score                                             0.849471   \n",
       "split2_test_score                                              0.894639   \n",
       "split2_train_score                                             0.845244   \n",
       "split3_test_score                                              0.820165   \n",
       "split3_train_score                                             0.848317   \n",
       "split4_test_score                                              0.839255   \n",
       "split4_train_score                                             0.852169   \n",
       "std_fit_time                                                 0.00263535   \n",
       "std_score_time                                              1.45876e-05   \n",
       "std_test_score                                                 0.162095   \n",
       "std_train_score                                               0.0174053   \n",
       "\n",
       "                                                                    69   \\\n",
       "mean_fit_time                                                 0.0288852   \n",
       "mean_score_time                                             0.000784111   \n",
       "mean_test_score                                                0.774662   \n",
       "mean_train_score                                                0.83364   \n",
       "param_regr__alpha                                                     1   \n",
       "param_regr__l1_ratio                                                0.5   \n",
       "param_sfm__estimator  Lasso(alpha=1.0, copy_X=True, fit_intercept=Tr...   \n",
       "param_skb__k                                                         40   \n",
       "params                {'regr__alpha': 1.0, 'regr__l1_ratio': 0.5, 's...   \n",
       "rank_test_score                                                      10   \n",
       "split0_test_score                                              0.470932   \n",
       "split0_train_score                                             0.867405   \n",
       "split1_test_score                                              0.846192   \n",
       "split1_train_score                                             0.824752   \n",
       "split2_test_score                                              0.882414   \n",
       "split2_train_score                                             0.823053   \n",
       "split3_test_score                                              0.848741   \n",
       "split3_train_score                                             0.827213   \n",
       "split4_test_score                                              0.825033   \n",
       "split4_train_score                                             0.825778   \n",
       "std_fit_time                                                 0.00782789   \n",
       "std_score_time                                              2.03953e-05   \n",
       "std_test_score                                                 0.152973   \n",
       "std_train_score                                               0.0169366   \n",
       "\n",
       "                                            ...                          \\\n",
       "mean_fit_time                               ...                           \n",
       "mean_score_time                             ...                           \n",
       "mean_test_score                             ...                           \n",
       "mean_train_score                            ...                           \n",
       "param_regr__alpha                           ...                           \n",
       "param_regr__l1_ratio                        ...                           \n",
       "param_sfm__estimator                        ...                           \n",
       "param_skb__k                                ...                           \n",
       "params                                      ...                           \n",
       "rank_test_score                             ...                           \n",
       "split0_test_score                           ...                           \n",
       "split0_train_score                          ...                           \n",
       "split1_test_score                           ...                           \n",
       "split1_train_score                          ...                           \n",
       "split2_test_score                           ...                           \n",
       "split2_train_score                          ...                           \n",
       "split3_test_score                           ...                           \n",
       "split3_train_score                          ...                           \n",
       "split4_test_score                           ...                           \n",
       "split4_train_score                          ...                           \n",
       "std_fit_time                                ...                           \n",
       "std_score_time                              ...                           \n",
       "std_test_score                              ...                           \n",
       "std_train_score                             ...                           \n",
       "\n",
       "                                                                    125  \\\n",
       "mean_fit_time                                                 0.0274565   \n",
       "mean_score_time                                             0.000806141   \n",
       "mean_test_score                                                0.021565   \n",
       "mean_train_score                                              0.0243805   \n",
       "param_regr__alpha                                                  1000   \n",
       "param_regr__l1_ratio                                                0.3   \n",
       "param_sfm__estimator  Lasso(alpha=1.0, copy_X=True, fit_intercept=Tr...   \n",
       "param_skb__k                                                         40   \n",
       "params                {'regr__alpha': 1000.0, 'regr__l1_ratio': 0.3,...   \n",
       "rank_test_score                                                     131   \n",
       "split0_test_score                                             0.0124557   \n",
       "split0_train_score                                            0.0258935   \n",
       "split1_test_score                                             0.0246135   \n",
       "split1_train_score                                            0.0233736   \n",
       "split2_test_score                                             0.0231535   \n",
       "split2_train_score                                            0.0238917   \n",
       "split3_test_score                                             0.0263908   \n",
       "split3_train_score                                            0.0241981   \n",
       "split4_test_score                                             0.0212114   \n",
       "split4_train_score                                            0.0245457   \n",
       "std_fit_time                                                 0.00776883   \n",
       "std_score_time                                              2.27189e-05   \n",
       "std_test_score                                               0.00486232   \n",
       "std_train_score                                             0.000848823   \n",
       "\n",
       "                                                                    120  \\\n",
       "mean_fit_time                                                 0.0469326   \n",
       "mean_score_time                                              0.00086832   \n",
       "mean_test_score                                               0.0188228   \n",
       "mean_train_score                                              0.0215737   \n",
       "param_regr__alpha                                                  1000   \n",
       "param_regr__l1_ratio                                                0.1   \n",
       "param_sfm__estimator  Lasso(alpha=1.0, copy_X=True, fit_intercept=Tr...   \n",
       "param_skb__k                                                         50   \n",
       "params                {'regr__alpha': 1000.0, 'regr__l1_ratio': 0.1,...   \n",
       "rank_test_score                                                     132   \n",
       "split0_test_score                                             0.0104248   \n",
       "split0_train_score                                            0.0226214   \n",
       "split1_test_score                                             0.0221402   \n",
       "split1_train_score                                            0.0210872   \n",
       "split2_test_score                                             0.0205197   \n",
       "split2_train_score                                            0.0214082   \n",
       "split3_test_score                                             0.0224057   \n",
       "split3_train_score                                            0.0212891   \n",
       "split4_test_score                                             0.0186238   \n",
       "split4_train_score                                            0.0214624   \n",
       "std_fit_time                                                   0.005566   \n",
       "std_score_time                                              3.06384e-05   \n",
       "std_test_score                                               0.00441109   \n",
       "std_train_score                                             0.000539461   \n",
       "\n",
       "                                                                    135  \\\n",
       "mean_fit_time                                                0.00887723   \n",
       "mean_score_time                                             0.000790215   \n",
       "mean_test_score                                               0.0181643   \n",
       "mean_train_score                                              0.0215725   \n",
       "param_regr__alpha                                                  1000   \n",
       "param_regr__l1_ratio                                                0.7   \n",
       "param_sfm__estimator  Ridge(alpha=1.0, copy_X=True, fit_intercept=Tr...   \n",
       "param_skb__k                                                         40   \n",
       "params                {'regr__alpha': 1000.0, 'regr__l1_ratio': 0.7,...   \n",
       "rank_test_score                                                     133   \n",
       "split0_test_score                                            0.00957572   \n",
       "split0_train_score                                            0.0213036   \n",
       "split1_test_score                                             0.0175585   \n",
       "split1_train_score                                            0.0187298   \n",
       "split2_test_score                                             0.0186302   \n",
       "split2_train_score                                            0.0212503   \n",
       "split3_test_score                                             0.0224541   \n",
       "split3_train_score                                            0.0211484   \n",
       "split4_test_score                                             0.0226029   \n",
       "split4_train_score                                            0.0254306   \n",
       "std_fit_time                                                0.000760983   \n",
       "std_score_time                                               1.7931e-05   \n",
       "std_test_score                                               0.00474239   \n",
       "std_train_score                                               0.0021597   \n",
       "\n",
       "                                                                    121  \\\n",
       "mean_fit_time                                                 0.0284831   \n",
       "mean_score_time                                             0.000839996   \n",
       "mean_test_score                                               0.0164336   \n",
       "mean_train_score                                              0.0191644   \n",
       "param_regr__alpha                                                  1000   \n",
       "param_regr__l1_ratio                                                0.1   \n",
       "param_sfm__estimator  Lasso(alpha=1.0, copy_X=True, fit_intercept=Tr...   \n",
       "param_skb__k                                                         40   \n",
       "params                {'regr__alpha': 1000.0, 'regr__l1_ratio': 0.1,...   \n",
       "rank_test_score                                                     134   \n",
       "split0_test_score                                            0.00880726   \n",
       "split0_train_score                                            0.0203578   \n",
       "split1_test_score                                             0.0191388   \n",
       "split1_train_score                                            0.0183698   \n",
       "split2_test_score                                             0.0172175   \n",
       "split2_train_score                                            0.0187778   \n",
       "split3_test_score                                             0.0204007   \n",
       "split3_train_score                                             0.019021   \n",
       "split4_test_score                                             0.0166036   \n",
       "split4_train_score                                            0.0192956   \n",
       "std_fit_time                                                  0.0095204   \n",
       "std_score_time                                              2.84961e-05   \n",
       "std_test_score                                               0.00404625   \n",
       "std_train_score                                             0.000669765   \n",
       "\n",
       "                                                                    130  \\\n",
       "mean_fit_time                                                0.00897145   \n",
       "mean_score_time                                             0.000810909   \n",
       "mean_test_score                                               0.0130621   \n",
       "mean_train_score                                              0.0161253   \n",
       "param_regr__alpha                                                  1000   \n",
       "param_regr__l1_ratio                                                0.5   \n",
       "param_sfm__estimator  Ridge(alpha=1.0, copy_X=True, fit_intercept=Tr...   \n",
       "param_skb__k                                                         50   \n",
       "params                {'regr__alpha': 1000.0, 'regr__l1_ratio': 0.5,...   \n",
       "rank_test_score                                                     135   \n",
       "split0_test_score                                            0.00533514   \n",
       "split0_train_score                                            0.0144778   \n",
       "split1_test_score                                             0.0141823   \n",
       "split1_train_score                                            0.0148013   \n",
       "split2_test_score                                             0.0129782   \n",
       "split2_train_score                                            0.0158572   \n",
       "split3_test_score                                             0.0155803   \n",
       "split3_train_score                                            0.0157679   \n",
       "split4_test_score                                             0.0172345   \n",
       "split4_train_score                                            0.0197222   \n",
       "std_fit_time                                                0.000240581   \n",
       "std_score_time                                              1.19898e-05   \n",
       "std_test_score                                               0.00411626   \n",
       "std_train_score                                              0.00187642   \n",
       "\n",
       "                                                                    131  \\\n",
       "mean_fit_time                                                0.00979552   \n",
       "mean_score_time                                             0.000948477   \n",
       "mean_test_score                                               0.0101075   \n",
       "mean_train_score                                              0.0131276   \n",
       "param_regr__alpha                                                  1000   \n",
       "param_regr__l1_ratio                                                0.5   \n",
       "param_sfm__estimator  Ridge(alpha=1.0, copy_X=True, fit_intercept=Tr...   \n",
       "param_skb__k                                                         40   \n",
       "params                {'regr__alpha': 1000.0, 'regr__l1_ratio': 0.5,...   \n",
       "rank_test_score                                                     136   \n",
       "split0_test_score                                            0.00402382   \n",
       "split0_train_score                                            0.0129563   \n",
       "split1_test_score                                             0.0102922   \n",
       "split1_train_score                                            0.0113832   \n",
       "split2_test_score                                            0.00954113   \n",
       "split2_train_score                                            0.0129317   \n",
       "split3_test_score                                             0.0130382   \n",
       "split3_train_score                                            0.0128695   \n",
       "split4_test_score                                             0.0136421   \n",
       "split4_train_score                                            0.0154972   \n",
       "std_fit_time                                                 0.00154429   \n",
       "std_score_time                                              0.000280941   \n",
       "std_test_score                                               0.00341901   \n",
       "std_train_score                                              0.00132608   \n",
       "\n",
       "                                                                    126  \\\n",
       "mean_fit_time                                                 0.0088058   \n",
       "mean_score_time                                             0.000811863   \n",
       "mean_test_score                                              0.00874781   \n",
       "mean_train_score                                              0.0116324   \n",
       "param_regr__alpha                                                  1000   \n",
       "param_regr__l1_ratio                                                0.3   \n",
       "param_sfm__estimator  Ridge(alpha=1.0, copy_X=True, fit_intercept=Tr...   \n",
       "param_skb__k                                                         50   \n",
       "params                {'regr__alpha': 1000.0, 'regr__l1_ratio': 0.3,...   \n",
       "rank_test_score                                                     137   \n",
       "split0_test_score                                            0.00256042   \n",
       "split0_train_score                                            0.0104361   \n",
       "split1_test_score                                            0.00995624   \n",
       "split1_train_score                                            0.0106739   \n",
       "split2_test_score                                            0.00808046   \n",
       "split2_train_score                                            0.0114368   \n",
       "split3_test_score                                             0.0107877   \n",
       "split3_train_score                                            0.0113743   \n",
       "split4_test_score                                             0.0123542   \n",
       "split4_train_score                                            0.0142408   \n",
       "std_fit_time                                                0.000218464   \n",
       "std_score_time                                              6.69511e-06   \n",
       "std_test_score                                               0.00338693   \n",
       "std_train_score                                              0.00136077   \n",
       "\n",
       "                                                                    127  \\\n",
       "mean_fit_time                                                0.00832796   \n",
       "mean_score_time                                             0.000787735   \n",
       "mean_test_score                                              0.00660796   \n",
       "mean_train_score                                             0.00946061   \n",
       "param_regr__alpha                                                  1000   \n",
       "param_regr__l1_ratio                                                0.3   \n",
       "param_sfm__estimator  Ridge(alpha=1.0, copy_X=True, fit_intercept=Tr...   \n",
       "param_skb__k                                                         40   \n",
       "params                {'regr__alpha': 1000.0, 'regr__l1_ratio': 0.3,...   \n",
       "rank_test_score                                                     138   \n",
       "split0_test_score                                            0.00161293   \n",
       "split0_train_score                                           0.00933481   \n",
       "split1_test_score                                            0.00714177   \n",
       "split1_train_score                                           0.00819869   \n",
       "split2_test_score                                            0.00559101   \n",
       "split2_train_score                                           0.00931918   \n",
       "split3_test_score                                            0.00894672   \n",
       "split3_train_score                                           0.00927464   \n",
       "split4_test_score                                            0.00974738   \n",
       "split4_train_score                                            0.0111757   \n",
       "std_fit_time                                                0.000156108   \n",
       "std_score_time                                              1.79502e-05   \n",
       "std_test_score                                               0.00288428   \n",
       "std_train_score                                             0.000959626   \n",
       "\n",
       "                                                                    122  \\\n",
       "mean_fit_time                                                0.00872126   \n",
       "mean_score_time                                             0.000792074   \n",
       "mean_test_score                                              0.00633337   \n",
       "mean_train_score                                             0.00911824   \n",
       "param_regr__alpha                                                  1000   \n",
       "param_regr__l1_ratio                                                0.1   \n",
       "param_sfm__estimator  Ridge(alpha=1.0, copy_X=True, fit_intercept=Tr...   \n",
       "param_skb__k                                                         50   \n",
       "params                {'regr__alpha': 1000.0, 'regr__l1_ratio': 0.1,...   \n",
       "rank_test_score                                                     139   \n",
       "split0_test_score                                            0.00100888   \n",
       "split0_train_score                                           0.00817682   \n",
       "split1_test_score                                            0.00759232   \n",
       "split1_train_score                                           0.00836538   \n",
       "split2_test_score                                            0.00533882   \n",
       "split2_train_score                                           0.00896345   \n",
       "split3_test_score                                            0.00810604   \n",
       "split3_train_score                                           0.00891604   \n",
       "split4_test_score                                             0.0096208   \n",
       "split4_train_score                                            0.0111695   \n",
       "std_fit_time                                                0.000218082   \n",
       "std_score_time                                              1.09594e-05   \n",
       "std_test_score                                               0.00299579   \n",
       "std_train_score                                               0.0010701   \n",
       "\n",
       "                                                                    123  \n",
       "mean_fit_time                                                0.00887065  \n",
       "mean_score_time                                             0.000783062  \n",
       "mean_test_score                                              0.00465153  \n",
       "mean_train_score                                             0.00741085  \n",
       "param_regr__alpha                                                  1000  \n",
       "param_regr__l1_ratio                                                0.1  \n",
       "param_sfm__estimator  Ridge(alpha=1.0, copy_X=True, fit_intercept=Tr...  \n",
       "param_skb__k                                                         40  \n",
       "params                {'regr__alpha': 1000.0, 'regr__l1_ratio': 0.1,...  \n",
       "rank_test_score                                                     140  \n",
       "split0_test_score                                           0.000265267  \n",
       "split0_train_score                                           0.00731127  \n",
       "split1_test_score                                            0.00538202  \n",
       "split1_train_score                                           0.00642011  \n",
       "split2_test_score                                            0.00338207  \n",
       "split2_train_score                                           0.00729977  \n",
       "split3_test_score                                            0.00665893  \n",
       "split3_train_score                                           0.00726519  \n",
       "split4_test_score                                            0.00756935  \n",
       "split4_train_score                                           0.00875791  \n",
       "std_fit_time                                                 0.00128244  \n",
       "std_score_time                                              9.26538e-06  \n",
       "std_test_score                                               0.00260491  \n",
       "std_train_score                                             0.000753607  \n",
       "\n",
       "[24 rows x 140 columns]"
      ]
     },
     "execution_count": 64,
     "metadata": {},
     "output_type": "execute_result"
    }
   ],
   "source": [
    "gspipe_results = pd.DataFrame(gspipe.cv_results_)\n",
    "\n",
    "gspipe_results.sort_values('rank_test_score', ascending=True).T"
   ]
  },
  {
   "cell_type": "code",
   "execution_count": 57,
   "metadata": {},
   "outputs": [],
   "source": []
  },
  {
   "cell_type": "code",
   "execution_count": null,
   "metadata": {},
   "outputs": [],
   "source": []
  },
  {
   "cell_type": "markdown",
   "metadata": {},
   "source": [
    "**3. K neighbor classifer**"
   ]
  },
  {
   "cell_type": "code",
   "execution_count": null,
   "metadata": {},
   "outputs": [],
   "source": []
  },
  {
   "cell_type": "code",
   "execution_count": 66,
   "metadata": {},
   "outputs": [],
   "source": [
    "X = data_var\n",
    "y = data_target"
   ]
  },
  {
   "cell_type": "code",
   "execution_count": 67,
   "metadata": {},
   "outputs": [],
   "source": [
    "from sklearn.neighbors import KNeighborsRegressor\n",
    "knn = KNeighborsRegressor(n_neighbors=3) "
   ]
  },
  {
   "cell_type": "code",
   "execution_count": 68,
   "metadata": {},
   "outputs": [
    {
     "data": {
      "text/plain": [
       "0.65510865516003669"
      ]
     },
     "execution_count": 68,
     "metadata": {},
     "output_type": "execute_result"
    }
   ],
   "source": [
    "knn.fit(X_train, y_train).score(X_test, y_test)"
   ]
  },
  {
   "cell_type": "code",
   "execution_count": 71,
   "metadata": {},
   "outputs": [
    {
     "data": {
      "text/plain": [
       "GridSearchCV(cv=ShuffleSplit(n_splits=5, random_state=42, test_size='default',\n",
       "       train_size=None),\n",
       "       error_score='raise',\n",
       "       estimator=KNeighborsRegressor(algorithm='auto', leaf_size=30, metric='minkowski',\n",
       "          metric_params=None, n_jobs=1, n_neighbors=5, p=2,\n",
       "          weights='uniform'),\n",
       "       fit_params=None, iid=True, n_jobs=1,\n",
       "       param_grid={'n_neighbors': range(5, 51, 10)},\n",
       "       pre_dispatch='2*n_jobs', refit=True, return_train_score='warn',\n",
       "       scoring=None, verbose=0)"
      ]
     },
     "execution_count": 71,
     "metadata": {},
     "output_type": "execute_result"
    }
   ],
   "source": [
    "from sklearn.model_selection import GridSearchCV\n",
    "knc_params = { 'n_neighbors' : range(5,51,10) }\n",
    "\n",
    "knc_gs = GridSearchCV(KNeighborsRegressor(),\n",
    "                      knc_params, \n",
    "                      cv=ShuffleSplit(n_splits=5, random_state=42))\n",
    "knc_gs.fit(X_train,y_train)"
   ]
  },
  {
   "cell_type": "code",
   "execution_count": null,
   "metadata": {},
   "outputs": [],
   "source": []
  },
  {
   "cell_type": "code",
   "execution_count": 72,
   "metadata": {},
   "outputs": [
    {
     "data": {
      "text/plain": [
       "0.62250566520872253"
      ]
     },
     "execution_count": 72,
     "metadata": {},
     "output_type": "execute_result"
    }
   ],
   "source": [
    "knc_gs.best_score_"
   ]
  },
  {
   "cell_type": "code",
   "execution_count": 58,
   "metadata": {},
   "outputs": [],
   "source": []
  },
  {
   "cell_type": "code",
   "execution_count": null,
   "metadata": {},
   "outputs": [],
   "source": []
  },
  {
   "cell_type": "code",
   "execution_count": 51,
   "metadata": {},
   "outputs": [],
   "source": [
    "from sklearn.preprocessing import StandardScaler\n",
    "scaler = StandardScaler()\n",
    "scaler.fit(X_train)\n",
    "X_train_scaled = scaler.transform(X_train)\n",
    "X_test_scaled = scaler.transform(X_test)"
   ]
  },
  {
   "cell_type": "code",
   "execution_count": null,
   "metadata": {},
   "outputs": [],
   "source": []
  },
  {
   "cell_type": "code",
   "execution_count": null,
   "metadata": {},
   "outputs": [],
   "source": []
  },
  {
   "cell_type": "code",
   "execution_count": null,
   "metadata": {},
   "outputs": [],
   "source": []
  },
  {
   "cell_type": "markdown",
   "metadata": {},
   "source": [
    "**LASSO**"
   ]
  },
  {
   "cell_type": "code",
   "execution_count": 34,
   "metadata": {},
   "outputs": [],
   "source": [
    "from sklearn import linear_model\n"
   ]
  },
  {
   "cell_type": "code",
   "execution_count": 35,
   "metadata": {},
   "outputs": [],
   "source": [
    "clf = linear_model.Lasso(alpha=0.1)"
   ]
  },
  {
   "cell_type": "code",
   "execution_count": 36,
   "metadata": {},
   "outputs": [
    {
     "name": "stderr",
     "output_type": "stream",
     "text": [
      "/opt/conda/lib/python3.6/site-packages/sklearn/linear_model/coordinate_descent.py:491: ConvergenceWarning: Objective did not converge. You might want to increase the number of iterations. Fitting data with very small alpha may cause precision problems.\n",
      "  ConvergenceWarning)\n"
     ]
    },
    {
     "data": {
      "text/plain": [
       "0.72542289992583942"
      ]
     },
     "execution_count": 36,
     "metadata": {},
     "output_type": "execute_result"
    }
   ],
   "source": [
    "clf.fit(X_train, y_train).score(X_test, y_test)"
   ]
  },
  {
   "cell_type": "markdown",
   "metadata": {},
   "source": [
    "**4. random forest regression model**"
   ]
  },
  {
   "cell_type": "code",
   "execution_count": 97,
   "metadata": {},
   "outputs": [],
   "source": [
    "from sklearn.ensemble import RandomForestRegressor\n",
    "\n",
    "rfr = RandomForestRegressor()"
   ]
  },
  {
   "cell_type": "code",
   "execution_count": 102,
   "metadata": {},
   "outputs": [
    {
     "data": {
      "text/plain": [
       "0.83348203935818965"
      ]
     },
     "execution_count": 102,
     "metadata": {},
     "output_type": "execute_result"
    }
   ],
   "source": [
    "rfr.fit(X_train, y_train).score(X_test, y_test)"
   ]
  },
  {
   "cell_type": "code",
   "execution_count": 103,
   "metadata": {},
   "outputs": [],
   "source": [
    "rfr_parm =  { 'max_depth' : range(1,50,1),\n",
    "            'max_features' :range(1,103,1) }"
   ]
  },
  {
   "cell_type": "code",
   "execution_count": 108,
   "metadata": {},
   "outputs": [
    {
     "data": {
      "text/plain": [
       "GridSearchCV(cv=ShuffleSplit(n_splits=5, random_state=42, test_size='default',\n",
       "       train_size=None),\n",
       "       error_score='raise',\n",
       "       estimator=RandomForestRegressor(bootstrap=True, criterion='mse', max_depth=None,\n",
       "           max_features='auto', max_leaf_nodes=None,\n",
       "           min_impurity_decrease=0.0, min_impurity_split=None,\n",
       "           min_samples_leaf=1, min_samples_split=2,\n",
       "           min_weight_fraction_leaf=0.0, n_estimators=10, n_jobs=1,\n",
       "           oob_score=False, random_state=None, verbose=0, warm_start=False),\n",
       "       fit_params=None, iid=True, n_jobs=1,\n",
       "       param_grid={'max_depth': range(1, 50), 'max_features': range(1, 103)},\n",
       "       pre_dispatch='2*n_jobs', refit=True, return_train_score='warn',\n",
       "       scoring=None, verbose=0)"
      ]
     },
     "execution_count": 108,
     "metadata": {},
     "output_type": "execute_result"
    }
   ],
   "source": [
    "from sklearn.model_selection import GridSearchCV\n",
    "\n",
    "rfr_gs = GridSearchCV(RandomForestRegressor(),\n",
    "                      rfr_parm, \n",
    "                      cv=ShuffleSplit(n_splits=5, random_state=42))\n",
    "rfr_gs.fit(X_train,y_train)"
   ]
  },
  {
   "cell_type": "code",
   "execution_count": 109,
   "metadata": {},
   "outputs": [
    {
     "data": {
      "text/plain": [
       "0.8478432652355572"
      ]
     },
     "execution_count": 109,
     "metadata": {},
     "output_type": "execute_result"
    }
   ],
   "source": [
    "rfr_gs.best_score_"
   ]
  },
  {
   "cell_type": "markdown",
   "metadata": {},
   "source": [
    "**Decision Tree**"
   ]
  },
  {
   "cell_type": "code",
   "execution_count": 73,
   "metadata": {},
   "outputs": [
    {
     "data": {
      "text/plain": [
       "DecisionTreeRegressor(criterion='mse', max_depth=None, max_features=None,\n",
       "           max_leaf_nodes=None, min_impurity_decrease=0.0,\n",
       "           min_impurity_split=None, min_samples_leaf=1,\n",
       "           min_samples_split=2, min_weight_fraction_leaf=0.0,\n",
       "           presort=False, random_state=None, splitter='best')"
      ]
     },
     "execution_count": 73,
     "metadata": {},
     "output_type": "execute_result"
    }
   ],
   "source": [
    "from sklearn.tree import DecisionTreeRegressor\n",
    "dtree = DecisionTreeRegressor()\n",
    "dtree.fit(X_train, y_train)"
   ]
  },
  {
   "cell_type": "code",
   "execution_count": 74,
   "metadata": {},
   "outputs": [
    {
     "data": {
      "text/plain": [
       "0.68559199480244937"
      ]
     },
     "execution_count": 74,
     "metadata": {},
     "output_type": "execute_result"
    }
   ],
   "source": [
    "dtree.score(X_test, y_test)"
   ]
  },
  {
   "cell_type": "code",
   "execution_count": null,
   "metadata": {},
   "outputs": [],
   "source": []
  },
  {
   "cell_type": "code",
   "execution_count": null,
   "metadata": {},
   "outputs": [],
   "source": []
  },
  {
   "cell_type": "code",
   "execution_count": null,
   "metadata": {},
   "outputs": [],
   "source": []
  },
  {
   "cell_type": "code",
   "execution_count": null,
   "metadata": {},
   "outputs": [],
   "source": []
  },
  {
   "cell_type": "code",
   "execution_count": null,
   "metadata": {},
   "outputs": [],
   "source": []
  },
  {
   "cell_type": "code",
   "execution_count": null,
   "metadata": {},
   "outputs": [],
   "source": []
  },
  {
   "cell_type": "code",
   "execution_count": null,
   "metadata": {},
   "outputs": [],
   "source": [
    "\n"
   ]
  },
  {
   "cell_type": "markdown",
   "metadata": {},
   "source": [
    "**pipeline-lasso curve**"
   ]
  },
  {
   "cell_type": "code",
   "execution_count": 75,
   "metadata": {},
   "outputs": [
    {
     "data": {
      "text/plain": [
       "<matplotlib.legend.Legend at 0x7f8d7672f1d0>"
      ]
     },
     "execution_count": 75,
     "metadata": {},
     "output_type": "execute_result"
    },
    {
     "data": {
      "image/png": "[encoded data removed]",
      "text/plain": [
       "<Figure size 432x288 with 1 Axes>"
      ]
     },
     "metadata": {},
     "output_type": "display_data"
    }
   ],
   "source": [
    "pipe_for_gs = Pipeline([\n",
    "    ('skb', SelectKBest(score_func=f_regression, k=40)),\n",
    "    ('scaler', StandardScaler()),\n",
    "    ('sfm', SelectFromModel(Lasso())),\n",
    "    ('regr', ElasticNet())\n",
    "])\n",
    "\n",
    "params = {\n",
    "    'regr__l1_ratio':[0,.1,.3,.5,.7,.9], \n",
    "    'regr__alpha':np.logspace(-3,5,9) \n",
    "}\n",
    "\n",
    "gspipe = GridSearchCV(pipe_for_gs,\n",
    "                      param_grid=params,\n",
    "                      n_jobs=-1,\n",
    "                      cv=ShuffleSplit(n_splits=5, random_state=42))\n",
    "\n",
    "from warnings import filterwarnings\n",
    "filterwarnings('ignore')\n",
    "\n",
    "gspipe.fit(X_train, y_train.ravel())\n",
    "\n",
    "gspipe.best_score_\n",
    "\n",
    "lasso_results = pd.DataFrame(gspipe.cv_results_)\n",
    "\n",
    "lasso_0_001 = lasso_results[lasso_results.param_regr__alpha == 0.001]\n",
    "lasso_0_01 = lasso_results[lasso_results.param_regr__alpha == 0.01]\n",
    "lasso_0_1 = lasso_results[lasso_results.param_regr__alpha == 0.1]\n",
    "lasso_1 = lasso_results[lasso_results.param_regr__alpha == 1]\n",
    "lasso_10 = lasso_results[lasso_results.param_regr__alpha == 10]\n",
    "lasso_100 = lasso_results[lasso_results.param_regr__alpha == 100]\n",
    "lasso_1000 = lasso_results[lasso_results.param_regr__alpha == 1000]\n",
    "lasso_10000 = lasso_results[lasso_results.param_regr__alpha == 10000]\n",
    "lasso_100000 = lasso_results[lasso_results.param_regr__alpha == 100000]\n",
    "\n",
    "plt.plot(lasso_0_001.param_regr__l1_ratio, lasso_0_001.mean_test_score, label='alpha - 0.001')\n",
    "plt.plot(lasso_0_01.param_regr__l1_ratio, lasso_0_01.mean_test_score, label='alpha - 0.01')\n",
    "plt.plot(lasso_0_1.param_regr__l1_ratio, lasso_0_1.mean_test_score, label='alpha - 0.1')\n",
    "plt.plot(lasso_1.param_regr__l1_ratio, lasso_1.mean_test_score, label='alpha - 1')\n",
    "plt.plot(lasso_10.param_regr__l1_ratio, lasso_10.mean_test_score, label='alpha - 10')\n",
    "plt.plot(lasso_100.param_regr__l1_ratio, lasso_100.mean_test_score, label='alpha - 100')\n",
    "plt.plot(lasso_1000.param_regr__l1_ratio, lasso_1000.mean_test_score, label='alpha - 1000')\n",
    "plt.plot(lasso_10000.param_regr__l1_ratio, lasso_1000.mean_test_score, label='alpha - 10000')\n",
    "plt.plot(lasso_100000.param_regr__l1_ratio, lasso_1000.mean_test_score, label='alpha - 100000')\n",
    "plt.ylabel('R2 of test set')\n",
    "plt.xlabel('l1 ratio')\n",
    "plt.legend() "
   ]
  },
  {
   "cell_type": "code",
   "execution_count": null,
   "metadata": {},
   "outputs": [],
   "source": []
  }
 ],
 "metadata": {
  "kernelspec": {
   "display_name": "Python 3",
   "language": "python",
   "name": "python3"
  },
  "language_info": {
   "codemirror_mode": {
    "name": "ipython",
    "version": 3
   },
   "file_extension": ".py",
   "mimetype": "text/x-python",
   "name": "python",
   "nbconvert_exporter": "python",
   "pygments_lexer": "ipython3",
   "version": "3.6.4"
  }
 },
 "nbformat": 4,
 "nbformat_minor": 2
}
